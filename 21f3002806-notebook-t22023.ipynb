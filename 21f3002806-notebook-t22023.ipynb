{
 "cells": [
  {
   "cell_type": "code",
   "execution_count": 1,
   "id": "26a6e075",
   "metadata": {
    "execution": {
     "iopub.execute_input": "2023-08-13T08:38:37.831942Z",
     "iopub.status.busy": "2023-08-13T08:38:37.831470Z",
     "iopub.status.idle": "2023-08-13T08:38:40.510493Z",
     "shell.execute_reply": "2023-08-13T08:38:40.509149Z"
    },
    "papermill": {
     "duration": 2.700741,
     "end_time": "2023-08-13T08:38:40.513511",
     "exception": false,
     "start_time": "2023-08-13T08:38:37.812770",
     "status": "completed"
    },
    "tags": []
   },
   "outputs": [],
   "source": [
    "import pandas as pd\n",
    "import numpy as np\n",
    "import regex as re\n",
    "import string\n",
    "from sklearn.base import BaseEstimator, TransformerMixin\n",
    "from sklearn.feature_extraction.text import CountVectorizer, TfidfVectorizer, HashingVectorizer, ENGLISH_STOP_WORDS\n",
    "from sklearn.linear_model import LogisticRegression\n",
    "from imblearn.over_sampling import RandomOverSampler \n",
    "from sklearn.naive_bayes import MultinomialNB\n",
    "from sklearn.metrics import accuracy_score, classification_report, precision_score, recall_score, f1_score\n",
    "from sklearn.pipeline import Pipeline\n",
    "from sklearn.impute import SimpleImputer\n",
    "from sklearn.preprocessing import OneHotEncoder, LabelEncoder, FunctionTransformer, StandardScaler, LabelBinarizer\n",
    "from sklearn.compose import ColumnTransformer\n",
    "from sklearn.decomposition import TruncatedSVD\n",
    "from sklearn.model_selection import cross_val_score, GridSearchCV, train_test_split\n",
    "from sklearn.neighbors import KNeighborsClassifier\n",
    "from sklearn.svm import SVC\n",
    "import matplotlib.pyplot as plt\n",
    "import seaborn as sns \n",
    "from sklearn.ensemble import BaggingClassifier, AdaBoostClassifier\n",
    "from sklearn.pipeline import make_pipeline\n"
   ]
  },
  {
   "cell_type": "markdown",
   "id": "cfdd4ec7",
   "metadata": {
    "papermill": {
     "duration": 0.015877,
     "end_time": "2023-08-13T08:38:40.545236",
     "exception": false,
     "start_time": "2023-08-13T08:38:40.529359",
     "status": "completed"
    },
    "tags": []
   },
   "source": [
    "# Data Loading:"
   ]
  },
  {
   "cell_type": "code",
   "execution_count": 2,
   "id": "54c3d551",
   "metadata": {
    "execution": {
     "iopub.execute_input": "2023-08-13T08:38:40.578576Z",
     "iopub.status.busy": "2023-08-13T08:38:40.578157Z",
     "iopub.status.idle": "2023-08-13T08:38:43.168896Z",
     "shell.execute_reply": "2023-08-13T08:38:43.167583Z"
    },
    "papermill": {
     "duration": 2.611842,
     "end_time": "2023-08-13T08:38:43.172585",
     "exception": false,
     "start_time": "2023-08-13T08:38:40.560743",
     "status": "completed"
    },
    "tags": []
   },
   "outputs": [],
   "source": [
    "movies_df = pd.read_csv('/kaggle/input/sentiment-prediction-on-movie-reviews/movies.csv')\n",
    "train_df = pd.read_csv('/kaggle/input/sentiment-prediction-on-movie-reviews/train.csv')\n",
    "test_df = pd.read_csv('/kaggle/input/sentiment-prediction-on-movie-reviews/test.csv')"
   ]
  },
  {
   "cell_type": "code",
   "execution_count": 3,
   "id": "a641976c",
   "metadata": {
    "execution": {
     "iopub.execute_input": "2023-08-13T08:38:43.208747Z",
     "iopub.status.busy": "2023-08-13T08:38:43.208341Z",
     "iopub.status.idle": "2023-08-13T08:38:43.246104Z",
     "shell.execute_reply": "2023-08-13T08:38:43.244830Z"
    },
    "papermill": {
     "duration": 0.06026,
     "end_time": "2023-08-13T08:38:43.249546",
     "exception": false,
     "start_time": "2023-08-13T08:38:43.189286",
     "status": "completed"
    },
    "tags": []
   },
   "outputs": [
    {
     "data": {
      "text/html": [
       "<div>\n",
       "<style scoped>\n",
       "    .dataframe tbody tr th:only-of-type {\n",
       "        vertical-align: middle;\n",
       "    }\n",
       "\n",
       "    .dataframe tbody tr th {\n",
       "        vertical-align: top;\n",
       "    }\n",
       "\n",
       "    .dataframe thead th {\n",
       "        text-align: right;\n",
       "    }\n",
       "</style>\n",
       "<table border=\"1\" class=\"dataframe\">\n",
       "  <thead>\n",
       "    <tr style=\"text-align: right;\">\n",
       "      <th></th>\n",
       "      <th>movieid</th>\n",
       "      <th>reviewerName</th>\n",
       "      <th>isFrequentReviewer</th>\n",
       "      <th>reviewText</th>\n",
       "      <th>sentiment</th>\n",
       "    </tr>\n",
       "  </thead>\n",
       "  <tbody>\n",
       "    <tr>\n",
       "      <th>0</th>\n",
       "      <td>marvelous_pirate</td>\n",
       "      <td>Benjamin Henry</td>\n",
       "      <td>False</td>\n",
       "      <td>Henry Selick’s first movie since 2009’s Corali...</td>\n",
       "      <td>POSITIVE</td>\n",
       "    </tr>\n",
       "    <tr>\n",
       "      <th>1</th>\n",
       "      <td>tony_montana_frodo_baggins_v_rocky_balboa</td>\n",
       "      <td>Felicia Lopez</td>\n",
       "      <td>False</td>\n",
       "      <td>With a cast that reads like the Vogue Oscar pa...</td>\n",
       "      <td>NEGATIVE</td>\n",
       "    </tr>\n",
       "    <tr>\n",
       "      <th>2</th>\n",
       "      <td>darth_vader_katniss_everdeen_sorcerer_donnie_d...</td>\n",
       "      <td>Mr. Charles Burgess</td>\n",
       "      <td>True</td>\n",
       "      <td>Creed II does not give us anything but another...</td>\n",
       "      <td>POSITIVE</td>\n",
       "    </tr>\n",
       "    <tr>\n",
       "      <th>3</th>\n",
       "      <td>lara_croft_glimmer</td>\n",
       "      <td>Ryan Barrett</td>\n",
       "      <td>False</td>\n",
       "      <td>I know what you're thinking, but this is no Li...</td>\n",
       "      <td>POSITIVE</td>\n",
       "    </tr>\n",
       "    <tr>\n",
       "      <th>4</th>\n",
       "      <td>jason_bourne_surreal_the_terminator_indiana_jones</td>\n",
       "      <td>Alexander Glover</td>\n",
       "      <td>False</td>\n",
       "      <td>Director Fernando Meirelles tells the story wi...</td>\n",
       "      <td>POSITIVE</td>\n",
       "    </tr>\n",
       "  </tbody>\n",
       "</table>\n",
       "</div>"
      ],
      "text/plain": [
       "                                             movieid         reviewerName  \\\n",
       "0                                   marvelous_pirate       Benjamin Henry   \n",
       "1          tony_montana_frodo_baggins_v_rocky_balboa        Felicia Lopez   \n",
       "2  darth_vader_katniss_everdeen_sorcerer_donnie_d...  Mr. Charles Burgess   \n",
       "3                                 lara_croft_glimmer         Ryan Barrett   \n",
       "4  jason_bourne_surreal_the_terminator_indiana_jones     Alexander Glover   \n",
       "\n",
       "   isFrequentReviewer                                         reviewText  \\\n",
       "0               False  Henry Selick’s first movie since 2009’s Corali...   \n",
       "1               False  With a cast that reads like the Vogue Oscar pa...   \n",
       "2                True  Creed II does not give us anything but another...   \n",
       "3               False  I know what you're thinking, but this is no Li...   \n",
       "4               False  Director Fernando Meirelles tells the story wi...   \n",
       "\n",
       "  sentiment  \n",
       "0  POSITIVE  \n",
       "1  NEGATIVE  \n",
       "2  POSITIVE  \n",
       "3  POSITIVE  \n",
       "4  POSITIVE  "
      ]
     },
     "execution_count": 3,
     "metadata": {},
     "output_type": "execute_result"
    }
   ],
   "source": [
    "train_df.head()\n",
    "\n"
   ]
  },
  {
   "cell_type": "code",
   "execution_count": 4,
   "id": "3e2cc0bc",
   "metadata": {
    "execution": {
     "iopub.execute_input": "2023-08-13T08:38:43.286142Z",
     "iopub.status.busy": "2023-08-13T08:38:43.285680Z",
     "iopub.status.idle": "2023-08-13T08:38:43.306886Z",
     "shell.execute_reply": "2023-08-13T08:38:43.305988Z"
    },
    "papermill": {
     "duration": 0.04348,
     "end_time": "2023-08-13T08:38:43.309959",
     "exception": false,
     "start_time": "2023-08-13T08:38:43.266479",
     "status": "completed"
    },
    "tags": []
   },
   "outputs": [
    {
     "data": {
      "text/html": [
       "<div>\n",
       "<style scoped>\n",
       "    .dataframe tbody tr th:only-of-type {\n",
       "        vertical-align: middle;\n",
       "    }\n",
       "\n",
       "    .dataframe tbody tr th {\n",
       "        vertical-align: top;\n",
       "    }\n",
       "\n",
       "    .dataframe thead th {\n",
       "        text-align: right;\n",
       "    }\n",
       "</style>\n",
       "<table border=\"1\" class=\"dataframe\">\n",
       "  <thead>\n",
       "    <tr style=\"text-align: right;\">\n",
       "      <th></th>\n",
       "      <th>movieid</th>\n",
       "      <th>title</th>\n",
       "      <th>audienceScore</th>\n",
       "      <th>rating</th>\n",
       "      <th>ratingContents</th>\n",
       "      <th>releaseDateTheaters</th>\n",
       "      <th>releaseDateStreaming</th>\n",
       "      <th>runtimeMinutes</th>\n",
       "      <th>genre</th>\n",
       "      <th>originalLanguage</th>\n",
       "      <th>director</th>\n",
       "      <th>boxOffice</th>\n",
       "      <th>distributor</th>\n",
       "      <th>soundType</th>\n",
       "    </tr>\n",
       "  </thead>\n",
       "  <tbody>\n",
       "    <tr>\n",
       "      <th>0</th>\n",
       "      <td>han_solo_heroic_myth_wonder_woman</td>\n",
       "      <td>Han Solo Heroic Myth Wonder Woman</td>\n",
       "      <td>50.0</td>\n",
       "      <td>NaN</td>\n",
       "      <td>NaN</td>\n",
       "      <td>NaN</td>\n",
       "      <td>2018-08-25</td>\n",
       "      <td>75.0</td>\n",
       "      <td>Comedy, Horror, Sci-fi</td>\n",
       "      <td>English</td>\n",
       "      <td>Claude Nicolet</td>\n",
       "      <td>NaN</td>\n",
       "      <td>NaN</td>\n",
       "      <td>NaN</td>\n",
       "    </tr>\n",
       "    <tr>\n",
       "      <th>1</th>\n",
       "      <td>voyage_tyler_durden_han_solo_stardust</td>\n",
       "      <td>Voyage Tyler Durden Han Solo Stardust</td>\n",
       "      <td>NaN</td>\n",
       "      <td>NaN</td>\n",
       "      <td>NaN</td>\n",
       "      <td>NaN</td>\n",
       "      <td>2020-02-11</td>\n",
       "      <td>114.0</td>\n",
       "      <td>Drama</td>\n",
       "      <td>English</td>\n",
       "      <td>Nathan Haack</td>\n",
       "      <td>NaN</td>\n",
       "      <td>NaN</td>\n",
       "      <td>NaN</td>\n",
       "    </tr>\n",
       "    <tr>\n",
       "      <th>2</th>\n",
       "      <td>norman_bates_ferris_bueller_hermione_granger_v...</td>\n",
       "      <td>Norman Bates Ferris Bueller Hermione Granger V...</td>\n",
       "      <td>43.0</td>\n",
       "      <td>NaN</td>\n",
       "      <td>NaN</td>\n",
       "      <td>NaN</td>\n",
       "      <td>NaN</td>\n",
       "      <td>120.0</td>\n",
       "      <td>Drama</td>\n",
       "      <td>Korean</td>\n",
       "      <td>Theresa Smith</td>\n",
       "      <td>NaN</td>\n",
       "      <td>NaN</td>\n",
       "      <td>NaN</td>\n",
       "    </tr>\n",
       "    <tr>\n",
       "      <th>3</th>\n",
       "      <td>elegant_hermione_granger</td>\n",
       "      <td>Elegant Hermione Granger</td>\n",
       "      <td>60.0</td>\n",
       "      <td>NaN</td>\n",
       "      <td>NaN</td>\n",
       "      <td>NaN</td>\n",
       "      <td>2020-10-23</td>\n",
       "      <td>90.0</td>\n",
       "      <td>Action, Mystery &amp; thriller</td>\n",
       "      <td>English</td>\n",
       "      <td>Donald Lewis</td>\n",
       "      <td>NaN</td>\n",
       "      <td>NaN</td>\n",
       "      <td>NaN</td>\n",
       "    </tr>\n",
       "    <tr>\n",
       "      <th>4</th>\n",
       "      <td>adventure_rocky_balboa</td>\n",
       "      <td>Adventure Rocky Balboa</td>\n",
       "      <td>70.0</td>\n",
       "      <td>NaN</td>\n",
       "      <td>NaN</td>\n",
       "      <td>NaN</td>\n",
       "      <td>2017-03-27</td>\n",
       "      <td>80.0</td>\n",
       "      <td>Fantasy, Adventure, Animation</td>\n",
       "      <td>English</td>\n",
       "      <td>Howard Simms</td>\n",
       "      <td>NaN</td>\n",
       "      <td>NaN</td>\n",
       "      <td>NaN</td>\n",
       "    </tr>\n",
       "  </tbody>\n",
       "</table>\n",
       "</div>"
      ],
      "text/plain": [
       "                                             movieid  \\\n",
       "0                  han_solo_heroic_myth_wonder_woman   \n",
       "1              voyage_tyler_durden_han_solo_stardust   \n",
       "2  norman_bates_ferris_bueller_hermione_granger_v...   \n",
       "3                           elegant_hermione_granger   \n",
       "4                             adventure_rocky_balboa   \n",
       "\n",
       "                                               title  audienceScore rating  \\\n",
       "0                  Han Solo Heroic Myth Wonder Woman           50.0    NaN   \n",
       "1              Voyage Tyler Durden Han Solo Stardust            NaN    NaN   \n",
       "2  Norman Bates Ferris Bueller Hermione Granger V...           43.0    NaN   \n",
       "3                           Elegant Hermione Granger           60.0    NaN   \n",
       "4                             Adventure Rocky Balboa           70.0    NaN   \n",
       "\n",
       "  ratingContents releaseDateTheaters releaseDateStreaming  runtimeMinutes  \\\n",
       "0            NaN                 NaN           2018-08-25            75.0   \n",
       "1            NaN                 NaN           2020-02-11           114.0   \n",
       "2            NaN                 NaN                  NaN           120.0   \n",
       "3            NaN                 NaN           2020-10-23            90.0   \n",
       "4            NaN                 NaN           2017-03-27            80.0   \n",
       "\n",
       "                           genre originalLanguage        director boxOffice  \\\n",
       "0         Comedy, Horror, Sci-fi          English  Claude Nicolet       NaN   \n",
       "1                          Drama          English    Nathan Haack       NaN   \n",
       "2                          Drama           Korean   Theresa Smith       NaN   \n",
       "3     Action, Mystery & thriller          English    Donald Lewis       NaN   \n",
       "4  Fantasy, Adventure, Animation          English    Howard Simms       NaN   \n",
       "\n",
       "  distributor soundType  \n",
       "0         NaN       NaN  \n",
       "1         NaN       NaN  \n",
       "2         NaN       NaN  \n",
       "3         NaN       NaN  \n",
       "4         NaN       NaN  "
      ]
     },
     "execution_count": 4,
     "metadata": {},
     "output_type": "execute_result"
    }
   ],
   "source": [
    "movies_df.head()"
   ]
  },
  {
   "cell_type": "code",
   "execution_count": 5,
   "id": "30e72575",
   "metadata": {
    "execution": {
     "iopub.execute_input": "2023-08-13T08:38:43.347151Z",
     "iopub.status.busy": "2023-08-13T08:38:43.345800Z",
     "iopub.status.idle": "2023-08-13T08:38:43.359956Z",
     "shell.execute_reply": "2023-08-13T08:38:43.358632Z"
    },
    "papermill": {
     "duration": 0.036058,
     "end_time": "2023-08-13T08:38:43.362982",
     "exception": false,
     "start_time": "2023-08-13T08:38:43.326924",
     "status": "completed"
    },
    "tags": []
   },
   "outputs": [
    {
     "data": {
      "text/html": [
       "<div>\n",
       "<style scoped>\n",
       "    .dataframe tbody tr th:only-of-type {\n",
       "        vertical-align: middle;\n",
       "    }\n",
       "\n",
       "    .dataframe tbody tr th {\n",
       "        vertical-align: top;\n",
       "    }\n",
       "\n",
       "    .dataframe thead th {\n",
       "        text-align: right;\n",
       "    }\n",
       "</style>\n",
       "<table border=\"1\" class=\"dataframe\">\n",
       "  <thead>\n",
       "    <tr style=\"text-align: right;\">\n",
       "      <th></th>\n",
       "      <th>movieid</th>\n",
       "      <th>reviewerName</th>\n",
       "      <th>isTopCritic</th>\n",
       "      <th>reviewText</th>\n",
       "    </tr>\n",
       "  </thead>\n",
       "  <tbody>\n",
       "    <tr>\n",
       "      <th>0</th>\n",
       "      <td>legend_marty_mcfly_oracle</td>\n",
       "      <td>John Kim</td>\n",
       "      <td>False</td>\n",
       "      <td>Green slowly cranks up the dread with style an...</td>\n",
       "    </tr>\n",
       "    <tr>\n",
       "      <th>1</th>\n",
       "      <td>terminator_katniss_everdeen_glimmer</td>\n",
       "      <td>Brian Chaney</td>\n",
       "      <td>False</td>\n",
       "      <td>Philip Noyce's direction is elegant and unforc...</td>\n",
       "    </tr>\n",
       "    <tr>\n",
       "      <th>2</th>\n",
       "      <td>james_bond_labyrinth_gollum</td>\n",
       "      <td>Danielle Parker</td>\n",
       "      <td>False</td>\n",
       "      <td>It wouldn't do to say what path Maria ultimate...</td>\n",
       "    </tr>\n",
       "    <tr>\n",
       "      <th>3</th>\n",
       "      <td>v_quest_han_solo_wondrous</td>\n",
       "      <td>Brittany Lane</td>\n",
       "      <td>False</td>\n",
       "      <td>Pig is not exactly the arthouse John Wick that...</td>\n",
       "    </tr>\n",
       "    <tr>\n",
       "      <th>4</th>\n",
       "      <td>enigma_hulk_surreal_starlight</td>\n",
       "      <td>Justin Willis</td>\n",
       "      <td>False</td>\n",
       "      <td>An imaginative no-budget musical of sorts abou...</td>\n",
       "    </tr>\n",
       "  </tbody>\n",
       "</table>\n",
       "</div>"
      ],
      "text/plain": [
       "                               movieid     reviewerName  isTopCritic  \\\n",
       "0            legend_marty_mcfly_oracle         John Kim        False   \n",
       "1  terminator_katniss_everdeen_glimmer     Brian Chaney        False   \n",
       "2          james_bond_labyrinth_gollum  Danielle Parker        False   \n",
       "3            v_quest_han_solo_wondrous    Brittany Lane        False   \n",
       "4        enigma_hulk_surreal_starlight    Justin Willis        False   \n",
       "\n",
       "                                          reviewText  \n",
       "0  Green slowly cranks up the dread with style an...  \n",
       "1  Philip Noyce's direction is elegant and unforc...  \n",
       "2  It wouldn't do to say what path Maria ultimate...  \n",
       "3  Pig is not exactly the arthouse John Wick that...  \n",
       "4  An imaginative no-budget musical of sorts abou...  "
      ]
     },
     "execution_count": 5,
     "metadata": {},
     "output_type": "execute_result"
    }
   ],
   "source": [
    "test_df.head()"
   ]
  },
  {
   "cell_type": "code",
   "execution_count": 6,
   "id": "190eeef8",
   "metadata": {
    "execution": {
     "iopub.execute_input": "2023-08-13T08:38:43.403157Z",
     "iopub.status.busy": "2023-08-13T08:38:43.402684Z",
     "iopub.status.idle": "2023-08-13T08:38:43.408247Z",
     "shell.execute_reply": "2023-08-13T08:38:43.407330Z"
    },
    "papermill": {
     "duration": 0.027901,
     "end_time": "2023-08-13T08:38:43.410593",
     "exception": false,
     "start_time": "2023-08-13T08:38:43.382692",
     "status": "completed"
    },
    "tags": []
   },
   "outputs": [],
   "source": [
    "count=CountVectorizer()"
   ]
  },
  {
   "cell_type": "code",
   "execution_count": 7,
   "id": "ef233887",
   "metadata": {
    "execution": {
     "iopub.execute_input": "2023-08-13T08:38:43.448113Z",
     "iopub.status.busy": "2023-08-13T08:38:43.447319Z",
     "iopub.status.idle": "2023-08-13T08:38:43.759684Z",
     "shell.execute_reply": "2023-08-13T08:38:43.758007Z"
    },
    "papermill": {
     "duration": 0.337359,
     "end_time": "2023-08-13T08:38:43.765313",
     "exception": false,
     "start_time": "2023-08-13T08:38:43.427954",
     "status": "completed"
    },
    "tags": []
   },
   "outputs": [
    {
     "data": {
      "image/png": "[encoded data removed]",
      "text/plain": [
       "<Figure size 500x500 with 1 Axes>"
      ]
     },
     "metadata": {},
     "output_type": "display_data"
    }
   ],
   "source": [
    "fig=plt.figure(figsize=(5,5))\n",
    "colors=[\"skyblue\",'pink']\n",
    "pos=train_df[train_df['sentiment']=='POSITIVE']\n",
    "neg=train_df[train_df['sentiment']=='NEGATIVE']\n",
    "ck=[pos['sentiment'].count(),neg['sentiment'].count()]\n",
    "legpie=plt.pie(ck,labels=[\"Positive\",\"Negative\"],\n",
    "                 autopct ='%1.1f%%', \n",
    "                 shadow = True,\n",
    "                 colors = colors,\n",
    "                 startangle = 45,\n",
    "                 explode=(0, 0.1))"
   ]
  },
  {
   "cell_type": "code",
   "execution_count": 8,
   "id": "379c5fab",
   "metadata": {
    "execution": {
     "iopub.execute_input": "2023-08-13T08:38:43.823788Z",
     "iopub.status.busy": "2023-08-13T08:38:43.823355Z",
     "iopub.status.idle": "2023-08-13T08:38:43.837871Z",
     "shell.execute_reply": "2023-08-13T08:38:43.836822Z"
    },
    "papermill": {
     "duration": 0.037076,
     "end_time": "2023-08-13T08:38:43.840305",
     "exception": false,
     "start_time": "2023-08-13T08:38:43.803229",
     "status": "completed"
    },
    "tags": []
   },
   "outputs": [
    {
     "data": {
      "text/html": [
       "<div>\n",
       "<style scoped>\n",
       "    .dataframe tbody tr th:only-of-type {\n",
       "        vertical-align: middle;\n",
       "    }\n",
       "\n",
       "    .dataframe tbody tr th {\n",
       "        vertical-align: top;\n",
       "    }\n",
       "\n",
       "    .dataframe thead th {\n",
       "        text-align: right;\n",
       "    }\n",
       "</style>\n",
       "<table border=\"1\" class=\"dataframe\">\n",
       "  <thead>\n",
       "    <tr style=\"text-align: right;\">\n",
       "      <th></th>\n",
       "      <th>movieid</th>\n",
       "      <th>reviewerName</th>\n",
       "      <th>isTopCritic</th>\n",
       "      <th>reviewText</th>\n",
       "    </tr>\n",
       "  </thead>\n",
       "  <tbody>\n",
       "    <tr>\n",
       "      <th>0</th>\n",
       "      <td>legend_marty_mcfly_oracle</td>\n",
       "      <td>John Kim</td>\n",
       "      <td>False</td>\n",
       "      <td>Green slowly cranks up the dread with style an...</td>\n",
       "    </tr>\n",
       "    <tr>\n",
       "      <th>1</th>\n",
       "      <td>terminator_katniss_everdeen_glimmer</td>\n",
       "      <td>Brian Chaney</td>\n",
       "      <td>False</td>\n",
       "      <td>Philip Noyce's direction is elegant and unforc...</td>\n",
       "    </tr>\n",
       "    <tr>\n",
       "      <th>2</th>\n",
       "      <td>james_bond_labyrinth_gollum</td>\n",
       "      <td>Danielle Parker</td>\n",
       "      <td>False</td>\n",
       "      <td>It wouldn't do to say what path Maria ultimate...</td>\n",
       "    </tr>\n",
       "    <tr>\n",
       "      <th>3</th>\n",
       "      <td>v_quest_han_solo_wondrous</td>\n",
       "      <td>Brittany Lane</td>\n",
       "      <td>False</td>\n",
       "      <td>Pig is not exactly the arthouse John Wick that...</td>\n",
       "    </tr>\n",
       "    <tr>\n",
       "      <th>4</th>\n",
       "      <td>enigma_hulk_surreal_starlight</td>\n",
       "      <td>Justin Willis</td>\n",
       "      <td>False</td>\n",
       "      <td>An imaginative no-budget musical of sorts abou...</td>\n",
       "    </tr>\n",
       "  </tbody>\n",
       "</table>\n",
       "</div>"
      ],
      "text/plain": [
       "                               movieid     reviewerName  isTopCritic  \\\n",
       "0            legend_marty_mcfly_oracle         John Kim        False   \n",
       "1  terminator_katniss_everdeen_glimmer     Brian Chaney        False   \n",
       "2          james_bond_labyrinth_gollum  Danielle Parker        False   \n",
       "3            v_quest_han_solo_wondrous    Brittany Lane        False   \n",
       "4        enigma_hulk_surreal_starlight    Justin Willis        False   \n",
       "\n",
       "                                          reviewText  \n",
       "0  Green slowly cranks up the dread with style an...  \n",
       "1  Philip Noyce's direction is elegant and unforc...  \n",
       "2  It wouldn't do to say what path Maria ultimate...  \n",
       "3  Pig is not exactly the arthouse John Wick that...  \n",
       "4  An imaginative no-budget musical of sorts abou...  "
      ]
     },
     "execution_count": 8,
     "metadata": {},
     "output_type": "execute_result"
    }
   ],
   "source": [
    "test_df.head()"
   ]
  },
  {
   "cell_type": "code",
   "execution_count": 9,
   "id": "f2c95374",
   "metadata": {
    "execution": {
     "iopub.execute_input": "2023-08-13T08:38:43.878952Z",
     "iopub.status.busy": "2023-08-13T08:38:43.877743Z",
     "iopub.status.idle": "2023-08-13T08:38:44.094780Z",
     "shell.execute_reply": "2023-08-13T08:38:44.093345Z"
    },
    "papermill": {
     "duration": 0.239735,
     "end_time": "2023-08-13T08:38:44.097851",
     "exception": false,
     "start_time": "2023-08-13T08:38:43.858116",
     "status": "completed"
    },
    "tags": []
   },
   "outputs": [],
   "source": [
    "movies_df.drop_duplicates(subset='movieid', inplace=True)\n",
    "train_df.drop_duplicates(subset=['movieid', 'reviewerName', 'reviewText'], inplace=True)"
   ]
  },
  {
   "cell_type": "code",
   "execution_count": 10,
   "id": "e13e1671",
   "metadata": {
    "execution": {
     "iopub.execute_input": "2023-08-13T08:38:44.136942Z",
     "iopub.status.busy": "2023-08-13T08:38:44.135466Z",
     "iopub.status.idle": "2023-08-13T08:38:44.222719Z",
     "shell.execute_reply": "2023-08-13T08:38:44.221501Z"
    },
    "papermill": {
     "duration": 0.109543,
     "end_time": "2023-08-13T08:38:44.225689",
     "exception": false,
     "start_time": "2023-08-13T08:38:44.116146",
     "status": "completed"
    },
    "tags": []
   },
   "outputs": [],
   "source": [
    "train_df.dropna(subset='reviewText', inplace=True)\n",
    "train_df.reset_index(drop=True, inplace=True)"
   ]
  },
  {
   "cell_type": "code",
   "execution_count": 11,
   "id": "41cabfe9",
   "metadata": {
    "execution": {
     "iopub.execute_input": "2023-08-13T08:38:44.264006Z",
     "iopub.status.busy": "2023-08-13T08:38:44.262961Z",
     "iopub.status.idle": "2023-08-13T08:38:44.268443Z",
     "shell.execute_reply": "2023-08-13T08:38:44.267573Z"
    },
    "papermill": {
     "duration": 0.027466,
     "end_time": "2023-08-13T08:38:44.270841",
     "exception": false,
     "start_time": "2023-08-13T08:38:44.243375",
     "status": "completed"
    },
    "tags": []
   },
   "outputs": [],
   "source": [
    "movies_df.reset_index(drop=True, inplace=True)"
   ]
  },
  {
   "cell_type": "markdown",
   "id": "82651368",
   "metadata": {
    "papermill": {
     "duration": 0.01724,
     "end_time": "2023-08-13T08:38:44.305578",
     "exception": false,
     "start_time": "2023-08-13T08:38:44.288338",
     "status": "completed"
    },
    "tags": []
   },
   "source": [
    "# Merge Metadata:"
   ]
  },
  {
   "cell_type": "code",
   "execution_count": 12,
   "id": "5b0260c9",
   "metadata": {
    "execution": {
     "iopub.execute_input": "2023-08-13T08:38:44.343353Z",
     "iopub.status.busy": "2023-08-13T08:38:44.342557Z",
     "iopub.status.idle": "2023-08-13T08:38:44.765852Z",
     "shell.execute_reply": "2023-08-13T08:38:44.764850Z"
    },
    "papermill": {
     "duration": 0.445226,
     "end_time": "2023-08-13T08:38:44.768568",
     "exception": false,
     "start_time": "2023-08-13T08:38:44.323342",
     "status": "completed"
    },
    "tags": []
   },
   "outputs": [],
   "source": [
    "data = pd.merge(train_df, movies_df, on='movieid', how='left') \n",
    "\n",
    "test_df = pd.merge(test_df, movies_df, on='movieid', how='left')"
   ]
  },
  {
   "cell_type": "code",
   "execution_count": 13,
   "id": "f6011918",
   "metadata": {
    "execution": {
     "iopub.execute_input": "2023-08-13T08:38:44.805869Z",
     "iopub.status.busy": "2023-08-13T08:38:44.805138Z",
     "iopub.status.idle": "2023-08-13T08:38:44.922898Z",
     "shell.execute_reply": "2023-08-13T08:38:44.921851Z"
    },
    "papermill": {
     "duration": 0.139724,
     "end_time": "2023-08-13T08:38:44.925819",
     "exception": false,
     "start_time": "2023-08-13T08:38:44.786095",
     "status": "completed"
    },
    "tags": []
   },
   "outputs": [],
   "source": [
    "tgt = data['sentiment']\n",
    "data = data[[ 'reviewText', 'rating', 'genre', 'ratingContents', 'audienceScore', 'distributor','boxOffice','releaseDateStreaming', 'releaseDateTheaters','director', 'soundType', 'runtimeMinutes', 'originalLanguage']]"
   ]
  },
  {
   "cell_type": "code",
   "execution_count": 14,
   "id": "aee157f0",
   "metadata": {
    "execution": {
     "iopub.execute_input": "2023-08-13T08:38:44.963166Z",
     "iopub.status.busy": "2023-08-13T08:38:44.962532Z",
     "iopub.status.idle": "2023-08-13T08:38:44.987812Z",
     "shell.execute_reply": "2023-08-13T08:38:44.986079Z"
    },
    "papermill": {
     "duration": 0.047476,
     "end_time": "2023-08-13T08:38:44.990854",
     "exception": false,
     "start_time": "2023-08-13T08:38:44.943378",
     "status": "completed"
    },
    "tags": []
   },
   "outputs": [
    {
     "data": {
      "text/plain": [
       "1157"
      ]
     },
     "execution_count": 14,
     "metadata": {},
     "output_type": "execute_result"
    }
   ],
   "source": [
    "data['genre'].nunique()"
   ]
  },
  {
   "cell_type": "code",
   "execution_count": 15,
   "id": "1dc280f3",
   "metadata": {
    "execution": {
     "iopub.execute_input": "2023-08-13T08:38:45.045682Z",
     "iopub.status.busy": "2023-08-13T08:38:45.045161Z",
     "iopub.status.idle": "2023-08-13T08:38:45.075788Z",
     "shell.execute_reply": "2023-08-13T08:38:45.074707Z"
    },
    "papermill": {
     "duration": 0.060052,
     "end_time": "2023-08-13T08:38:45.078092",
     "exception": false,
     "start_time": "2023-08-13T08:38:45.018040",
     "status": "completed"
    },
    "tags": []
   },
   "outputs": [
    {
     "data": {
      "text/html": [
       "<div>\n",
       "<style scoped>\n",
       "    .dataframe tbody tr th:only-of-type {\n",
       "        vertical-align: middle;\n",
       "    }\n",
       "\n",
       "    .dataframe tbody tr th {\n",
       "        vertical-align: top;\n",
       "    }\n",
       "\n",
       "    .dataframe thead th {\n",
       "        text-align: right;\n",
       "    }\n",
       "</style>\n",
       "<table border=\"1\" class=\"dataframe\">\n",
       "  <thead>\n",
       "    <tr style=\"text-align: right;\">\n",
       "      <th></th>\n",
       "      <th>reviewText</th>\n",
       "      <th>rating</th>\n",
       "      <th>genre</th>\n",
       "      <th>ratingContents</th>\n",
       "      <th>audienceScore</th>\n",
       "      <th>distributor</th>\n",
       "      <th>boxOffice</th>\n",
       "      <th>releaseDateStreaming</th>\n",
       "      <th>releaseDateTheaters</th>\n",
       "      <th>director</th>\n",
       "      <th>soundType</th>\n",
       "      <th>runtimeMinutes</th>\n",
       "      <th>originalLanguage</th>\n",
       "    </tr>\n",
       "  </thead>\n",
       "  <tbody>\n",
       "    <tr>\n",
       "      <th>0</th>\n",
       "      <td>Henry Selick’s first movie since 2009’s Corali...</td>\n",
       "      <td>PG-13</td>\n",
       "      <td>Comedy, Animation, Adventure, Fantasy</td>\n",
       "      <td>['Violence', 'Brief Strong Language', 'Substan...</td>\n",
       "      <td>65.0</td>\n",
       "      <td>Netflix</td>\n",
       "      <td>NaN</td>\n",
       "      <td>2022-10-28</td>\n",
       "      <td>2022-10-21</td>\n",
       "      <td>Bennie Basso</td>\n",
       "      <td>NaN</td>\n",
       "      <td>105.0</td>\n",
       "      <td>English</td>\n",
       "    </tr>\n",
       "    <tr>\n",
       "      <th>1</th>\n",
       "      <td>With a cast that reads like the Vogue Oscar pa...</td>\n",
       "      <td>NaN</td>\n",
       "      <td>Action</td>\n",
       "      <td>NaN</td>\n",
       "      <td>NaN</td>\n",
       "      <td>NaN</td>\n",
       "      <td>NaN</td>\n",
       "      <td>2013-01-08</td>\n",
       "      <td>NaN</td>\n",
       "      <td>Alma White</td>\n",
       "      <td>NaN</td>\n",
       "      <td>91.0</td>\n",
       "      <td>English</td>\n",
       "    </tr>\n",
       "    <tr>\n",
       "      <th>2</th>\n",
       "      <td>Creed II does not give us anything but another...</td>\n",
       "      <td>PG-13</td>\n",
       "      <td>Drama</td>\n",
       "      <td>['Language', 'A Scene of Sensuality', 'Sports ...</td>\n",
       "      <td>80.0</td>\n",
       "      <td>Warner Bros. Pictures, Metro-Goldwyn-Mayer</td>\n",
       "      <td>$115.7M</td>\n",
       "      <td>2019-02-12</td>\n",
       "      <td>2018-11-21</td>\n",
       "      <td>Bobby Oleary</td>\n",
       "      <td>NaN</td>\n",
       "      <td>130.0</td>\n",
       "      <td>English</td>\n",
       "    </tr>\n",
       "    <tr>\n",
       "      <th>3</th>\n",
       "      <td>I know what you're thinking, but this is no Li...</td>\n",
       "      <td>NaN</td>\n",
       "      <td>Drama</td>\n",
       "      <td>NaN</td>\n",
       "      <td>NaN</td>\n",
       "      <td>NaN</td>\n",
       "      <td>NaN</td>\n",
       "      <td>2020-06-02</td>\n",
       "      <td>NaN</td>\n",
       "      <td>Eric Hutcherson</td>\n",
       "      <td>NaN</td>\n",
       "      <td>15.0</td>\n",
       "      <td>Spanish</td>\n",
       "    </tr>\n",
       "    <tr>\n",
       "      <th>4</th>\n",
       "      <td>Director Fernando Meirelles tells the story wi...</td>\n",
       "      <td>R</td>\n",
       "      <td>Crime, Drama</td>\n",
       "      <td>['Language', 'Drug Content', 'Sexuality', 'Str...</td>\n",
       "      <td>97.0</td>\n",
       "      <td>Miramax Films</td>\n",
       "      <td>$7.6M</td>\n",
       "      <td>2004-06-08</td>\n",
       "      <td>2003-01-17</td>\n",
       "      <td>John Trent</td>\n",
       "      <td>Surround, Dolby SR, Dolby Digital, Dolby A, Do...</td>\n",
       "      <td>131.0</td>\n",
       "      <td>Portuguese (Brazil)</td>\n",
       "    </tr>\n",
       "    <tr>\n",
       "      <th>...</th>\n",
       "      <td>...</td>\n",
       "      <td>...</td>\n",
       "      <td>...</td>\n",
       "      <td>...</td>\n",
       "      <td>...</td>\n",
       "      <td>...</td>\n",
       "      <td>...</td>\n",
       "      <td>...</td>\n",
       "      <td>...</td>\n",
       "      <td>...</td>\n",
       "      <td>...</td>\n",
       "      <td>...</td>\n",
       "      <td>...</td>\n",
       "    </tr>\n",
       "    <tr>\n",
       "      <th>155237</th>\n",
       "      <td>A top-notch thriller with genuine surprises an...</td>\n",
       "      <td>NaN</td>\n",
       "      <td>Romance</td>\n",
       "      <td>NaN</td>\n",
       "      <td>NaN</td>\n",
       "      <td>NaN</td>\n",
       "      <td>NaN</td>\n",
       "      <td>2004-01-06</td>\n",
       "      <td>NaN</td>\n",
       "      <td>Gertrude Fonner</td>\n",
       "      <td>NaN</td>\n",
       "      <td>96.0</td>\n",
       "      <td>English</td>\n",
       "    </tr>\n",
       "    <tr>\n",
       "      <th>155238</th>\n",
       "      <td>Some people find Derek Zoolander funny and lik...</td>\n",
       "      <td>PG-13</td>\n",
       "      <td>Comedy, Adventure</td>\n",
       "      <td>['Crude and Sexual Content', 'Brief Strong Lan...</td>\n",
       "      <td>20.0</td>\n",
       "      <td>Paramount Pictures</td>\n",
       "      <td>$28.8M</td>\n",
       "      <td>2016-05-24</td>\n",
       "      <td>2016-02-12</td>\n",
       "      <td>Susan Oley</td>\n",
       "      <td>NaN</td>\n",
       "      <td>102.0</td>\n",
       "      <td>English</td>\n",
       "    </tr>\n",
       "    <tr>\n",
       "      <th>155239</th>\n",
       "      <td>This fun, gentle comedy focuses mainly on them...</td>\n",
       "      <td>PG-13</td>\n",
       "      <td>Comedy, Drama</td>\n",
       "      <td>['Some Language', 'Suggestive References']</td>\n",
       "      <td>78.0</td>\n",
       "      <td>NaN</td>\n",
       "      <td>NaN</td>\n",
       "      <td>2022-06-17</td>\n",
       "      <td>NaN</td>\n",
       "      <td>Bryant Reams</td>\n",
       "      <td>Dolby Digital</td>\n",
       "      <td>90.0</td>\n",
       "      <td>English</td>\n",
       "    </tr>\n",
       "    <tr>\n",
       "      <th>155240</th>\n",
       "      <td>The film is rescued by a strong third act, but...</td>\n",
       "      <td>NaN</td>\n",
       "      <td>Kids &amp; family, Holiday, Comedy</td>\n",
       "      <td>NaN</td>\n",
       "      <td>39.0</td>\n",
       "      <td>20th Century Fox</td>\n",
       "      <td>$60.6M</td>\n",
       "      <td>1998-11-03</td>\n",
       "      <td>1996-11-16</td>\n",
       "      <td>Lisa Cruz</td>\n",
       "      <td>Surround</td>\n",
       "      <td>88.0</td>\n",
       "      <td>English</td>\n",
       "    </tr>\n",
       "    <tr>\n",
       "      <th>155241</th>\n",
       "      <td>A peerless exercise in stimulus response.</td>\n",
       "      <td>R</td>\n",
       "      <td>Horror, Mystery &amp; thriller</td>\n",
       "      <td>['Language']</td>\n",
       "      <td>57.0</td>\n",
       "      <td>Paramount Pictures</td>\n",
       "      <td>$107.9M</td>\n",
       "      <td>2009-12-29</td>\n",
       "      <td>2009-10-16</td>\n",
       "      <td>Philip Stuck</td>\n",
       "      <td>NaN</td>\n",
       "      <td>86.0</td>\n",
       "      <td>English</td>\n",
       "    </tr>\n",
       "  </tbody>\n",
       "</table>\n",
       "<p>155242 rows × 13 columns</p>\n",
       "</div>"
      ],
      "text/plain": [
       "                                               reviewText rating  \\\n",
       "0       Henry Selick’s first movie since 2009’s Corali...  PG-13   \n",
       "1       With a cast that reads like the Vogue Oscar pa...    NaN   \n",
       "2       Creed II does not give us anything but another...  PG-13   \n",
       "3       I know what you're thinking, but this is no Li...    NaN   \n",
       "4       Director Fernando Meirelles tells the story wi...      R   \n",
       "...                                                   ...    ...   \n",
       "155237  A top-notch thriller with genuine surprises an...    NaN   \n",
       "155238  Some people find Derek Zoolander funny and lik...  PG-13   \n",
       "155239  This fun, gentle comedy focuses mainly on them...  PG-13   \n",
       "155240  The film is rescued by a strong third act, but...    NaN   \n",
       "155241          A peerless exercise in stimulus response.      R   \n",
       "\n",
       "                                        genre  \\\n",
       "0       Comedy, Animation, Adventure, Fantasy   \n",
       "1                                      Action   \n",
       "2                                       Drama   \n",
       "3                                       Drama   \n",
       "4                                Crime, Drama   \n",
       "...                                       ...   \n",
       "155237                                Romance   \n",
       "155238                      Comedy, Adventure   \n",
       "155239                          Comedy, Drama   \n",
       "155240         Kids & family, Holiday, Comedy   \n",
       "155241             Horror, Mystery & thriller   \n",
       "\n",
       "                                           ratingContents  audienceScore  \\\n",
       "0       ['Violence', 'Brief Strong Language', 'Substan...           65.0   \n",
       "1                                                     NaN            NaN   \n",
       "2       ['Language', 'A Scene of Sensuality', 'Sports ...           80.0   \n",
       "3                                                     NaN            NaN   \n",
       "4       ['Language', 'Drug Content', 'Sexuality', 'Str...           97.0   \n",
       "...                                                   ...            ...   \n",
       "155237                                                NaN            NaN   \n",
       "155238  ['Crude and Sexual Content', 'Brief Strong Lan...           20.0   \n",
       "155239         ['Some Language', 'Suggestive References']           78.0   \n",
       "155240                                                NaN           39.0   \n",
       "155241                                       ['Language']           57.0   \n",
       "\n",
       "                                       distributor boxOffice  \\\n",
       "0                                          Netflix       NaN   \n",
       "1                                              NaN       NaN   \n",
       "2       Warner Bros. Pictures, Metro-Goldwyn-Mayer   $115.7M   \n",
       "3                                              NaN       NaN   \n",
       "4                                    Miramax Films     $7.6M   \n",
       "...                                            ...       ...   \n",
       "155237                                         NaN       NaN   \n",
       "155238                          Paramount Pictures    $28.8M   \n",
       "155239                                         NaN       NaN   \n",
       "155240                            20th Century Fox    $60.6M   \n",
       "155241                          Paramount Pictures   $107.9M   \n",
       "\n",
       "       releaseDateStreaming releaseDateTheaters         director  \\\n",
       "0                2022-10-28          2022-10-21     Bennie Basso   \n",
       "1                2013-01-08                 NaN       Alma White   \n",
       "2                2019-02-12          2018-11-21     Bobby Oleary   \n",
       "3                2020-06-02                 NaN  Eric Hutcherson   \n",
       "4                2004-06-08          2003-01-17       John Trent   \n",
       "...                     ...                 ...              ...   \n",
       "155237           2004-01-06                 NaN  Gertrude Fonner   \n",
       "155238           2016-05-24          2016-02-12       Susan Oley   \n",
       "155239           2022-06-17                 NaN     Bryant Reams   \n",
       "155240           1998-11-03          1996-11-16        Lisa Cruz   \n",
       "155241           2009-12-29          2009-10-16     Philip Stuck   \n",
       "\n",
       "                                                soundType  runtimeMinutes  \\\n",
       "0                                                     NaN           105.0   \n",
       "1                                                     NaN            91.0   \n",
       "2                                                     NaN           130.0   \n",
       "3                                                     NaN            15.0   \n",
       "4       Surround, Dolby SR, Dolby Digital, Dolby A, Do...           131.0   \n",
       "...                                                   ...             ...   \n",
       "155237                                                NaN            96.0   \n",
       "155238                                                NaN           102.0   \n",
       "155239                                      Dolby Digital            90.0   \n",
       "155240                                           Surround            88.0   \n",
       "155241                                                NaN            86.0   \n",
       "\n",
       "           originalLanguage  \n",
       "0                   English  \n",
       "1                   English  \n",
       "2                   English  \n",
       "3                   Spanish  \n",
       "4       Portuguese (Brazil)  \n",
       "...                     ...  \n",
       "155237              English  \n",
       "155238              English  \n",
       "155239              English  \n",
       "155240              English  \n",
       "155241              English  \n",
       "\n",
       "[155242 rows x 13 columns]"
      ]
     },
     "execution_count": 15,
     "metadata": {},
     "output_type": "execute_result"
    }
   ],
   "source": [
    "data"
   ]
  },
  {
   "cell_type": "code",
   "execution_count": 16,
   "id": "5b681fd6",
   "metadata": {
    "execution": {
     "iopub.execute_input": "2023-08-13T08:38:45.118753Z",
     "iopub.status.busy": "2023-08-13T08:38:45.117821Z",
     "iopub.status.idle": "2023-08-13T08:38:45.177058Z",
     "shell.execute_reply": "2023-08-13T08:38:45.175585Z"
    },
    "papermill": {
     "duration": 0.083773,
     "end_time": "2023-08-13T08:38:45.180310",
     "exception": false,
     "start_time": "2023-08-13T08:38:45.096537",
     "status": "completed"
    },
    "tags": []
   },
   "outputs": [],
   "source": [
    "test_df = test_df[[ 'reviewText', 'rating', 'genre', 'ratingContents', 'audienceScore', 'distributor','boxOffice','releaseDateStreaming', 'releaseDateTheaters','director', 'soundType', 'runtimeMinutes', 'originalLanguage']]"
   ]
  },
  {
   "cell_type": "code",
   "execution_count": 17,
   "id": "25293a5e",
   "metadata": {
    "execution": {
     "iopub.execute_input": "2023-08-13T08:38:45.220766Z",
     "iopub.status.busy": "2023-08-13T08:38:45.220244Z",
     "iopub.status.idle": "2023-08-13T08:38:46.208305Z",
     "shell.execute_reply": "2023-08-13T08:38:46.206877Z"
    },
    "papermill": {
     "duration": 1.012046,
     "end_time": "2023-08-13T08:38:46.211639",
     "exception": false,
     "start_time": "2023-08-13T08:38:45.199593",
     "status": "completed"
    },
    "tags": []
   },
   "outputs": [],
   "source": [
    "lb = LabelBinarizer()\n",
    "tgt = lb.fit_transform(tgt)\n",
    "tgt = tgt.ravel()\n"
   ]
  },
  {
   "cell_type": "code",
   "execution_count": 18,
   "id": "26144775",
   "metadata": {
    "execution": {
     "iopub.execute_input": "2023-08-13T08:38:46.253919Z",
     "iopub.status.busy": "2023-08-13T08:38:46.253445Z",
     "iopub.status.idle": "2023-08-13T08:38:48.290800Z",
     "shell.execute_reply": "2023-08-13T08:38:48.287948Z"
    },
    "papermill": {
     "duration": 2.062777,
     "end_time": "2023-08-13T08:38:48.294219",
     "exception": false,
     "start_time": "2023-08-13T08:38:46.231442",
     "status": "completed"
    },
    "tags": []
   },
   "outputs": [
    {
     "name": "stdout",
     "output_type": "stream",
     "text": [
      "                  Column   Chi-squared        P-value\n",
      "0                 rating    476.523185  9.572574e-100\n",
      "1                  genre  11135.011390   0.000000e+00\n",
      "2         ratingContents  24670.117810   0.000000e+00\n",
      "3          audienceScore  14682.535457   0.000000e+00\n",
      "4            distributor  10173.655346   0.000000e+00\n",
      "5              boxOffice  17408.843160   0.000000e+00\n",
      "6   releaseDateStreaming  13402.846866   0.000000e+00\n",
      "7    releaseDateTheaters  17004.542488   0.000000e+00\n",
      "8               director  36423.375288   0.000000e+00\n",
      "9              soundType   3970.809972   0.000000e+00\n",
      "10        runtimeMinutes   1667.807629  8.410127e-223\n",
      "11      originalLanguage   2022.574197   0.000000e+00\n"
     ]
    }
   ],
   "source": [
    "import pandas as pd\n",
    "from scipy.stats import chi2_contingency\n",
    "\n",
    "categorical_columns = ['rating', 'genre', 'ratingContents', 'audienceScore', 'distributor','boxOffice','releaseDateStreaming', 'releaseDateTheaters','director', 'soundType', 'runtimeMinutes', 'originalLanguage']\n",
    "results = []\n",
    "\n",
    "for col in categorical_columns:\n",
    "    # Create a contingency table\n",
    "    contingency_table = pd.crosstab(data[col],tgt)\n",
    "    \n",
    "    # Perform the Chi-squared test\n",
    "    chi2_stat, p_val, dof, expected = chi2_contingency(contingency_table)\n",
    "    \n",
    "    results.append({\n",
    "        'Column': col,\n",
    "        'Chi-squared': chi2_stat,\n",
    "        'P-value': p_val\n",
    "    })\n",
    "\n",
    "results_df = pd.DataFrame(results)\n",
    "print(results_df)\n",
    " "
   ]
  },
  {
   "cell_type": "code",
   "execution_count": 19,
   "id": "731e9b0e",
   "metadata": {
    "execution": {
     "iopub.execute_input": "2023-08-13T08:38:48.339816Z",
     "iopub.status.busy": "2023-08-13T08:38:48.339311Z",
     "iopub.status.idle": "2023-08-13T08:38:48.526428Z",
     "shell.execute_reply": "2023-08-13T08:38:48.524893Z"
    },
    "papermill": {
     "duration": 0.214587,
     "end_time": "2023-08-13T08:38:48.529943",
     "exception": false,
     "start_time": "2023-08-13T08:38:48.315356",
     "status": "completed"
    },
    "tags": []
   },
   "outputs": [],
   "source": [
    "X_train, X_test, y_train, y_test = train_test_split(data, tgt, test_size=0.2, shuffle=True, stratify=tgt, random_state=42)"
   ]
  },
  {
   "cell_type": "code",
   "execution_count": 20,
   "id": "39b2d88d",
   "metadata": {
    "execution": {
     "iopub.execute_input": "2023-08-13T08:38:48.571948Z",
     "iopub.status.busy": "2023-08-13T08:38:48.571471Z",
     "iopub.status.idle": "2023-08-13T08:38:48.589831Z",
     "shell.execute_reply": "2023-08-13T08:38:48.588780Z"
    },
    "papermill": {
     "duration": 0.043476,
     "end_time": "2023-08-13T08:38:48.592578",
     "exception": false,
     "start_time": "2023-08-13T08:38:48.549102",
     "status": "completed"
    },
    "tags": []
   },
   "outputs": [],
   "source": [
    "class TextProcessor(BaseEstimator, TransformerMixin):\n",
    "    stop_words = set(ENGLISH_STOP_WORDS)\n",
    "    stop_words.update(['film', 'films', 'movie', 'movies', 'director', 'plot', 'story', 'actor', 'actors', 'cast',\n",
    "                       'scene', 'scenes', 'cinema', 'hollywood', 'script', 'screenplay', 'character', 'charaters', 'role',\n",
    "                       'roles', 'actress', 'actresses', 'genre', 'genres', 'sequel', 'prequel', 'remake', 'remakes', 'original',\n",
    "                       'version', 'versions', 'franchise', 'franchises', 'cinematography', 'cinematographer', 'cinematographers',\n",
    "                       'cinematographic', 'cinematographics', 'cinematic', 'cinematics', 'cinematograph', 'cinematographs', \n",
    "                       'cinematographical', 'cinematographically', 'like', 'just', 'review', 'reviews', 'storyline', 'storylines',\n",
    "                       'story', 'stories', 'plotline', 'dont', 'didnt', 'doesnt', 'cant', 'couldnt', 'wouldnt', 'shouldnt', 'wont',\n",
    "                       'just', 'isnt', 'arent', 'wasnt', 'werent', 'havent', 'hasnt', 'hadnt', 'having', 'got', 'get',\n",
    "                       'gets', 'gotten', 'im', 'ive', 'id', 'ill', 'youre', 'youve', 'youll', 'youd', 'theyre', 'theyve',\n",
    "                       'theyll', 'theyd', 'weve', 'wed', 'were', 'wasnt'\n",
    "                      ])\n",
    "    \n",
    "\n",
    "    process_pattern = re.compile(r\"\\s|[.,?!;:-_]\")\n",
    "    whitespace_pattern = re.compile(r\"\\s+\")\n",
    "    \n",
    "    \n",
    "    def fit(self, X, y=None):\n",
    "        return self\n",
    "    \n",
    "    def transform(self, X: pd.Series, y=None, stem=False):\n",
    "        X = X.copy()\n",
    "        X.fillna(\"\", inplace=True)\n",
    "        X = X.apply(self.process_text)\n",
    "        return X\n",
    "    \n",
    "    def process_text(self, text):\n",
    "        text = text.lower()\n",
    "\n",
    "        words_without_apostrophe = []\n",
    "        for word in text.split():\n",
    "            if \"'\" not in word:\n",
    "                words_without_apostrophe.append(word)\n",
    "        text = \" \".join(words_without_apostrophe)\n",
    "\n",
    "        text_characters = []\n",
    "        for character in text:\n",
    "            if character.isalpha() or character.isspace():\n",
    "                text_characters.append(character)\n",
    "        text = \"\".join(text_characters)\n",
    "\n",
    "        words = []\n",
    "        for word in text.split():\n",
    "            if len(word) > 2 and word not in self.stop_words:\n",
    "                words.append(word)\n",
    "        text = \" \".join(words)\n",
    "\n",
    "        whitespace_removed = []\n",
    "        words = text.split()\n",
    "        for word in words:\n",
    "            if word:\n",
    "                whitespace_removed.append(word)\n",
    "        text = \" \".join(whitespace_removed)\n",
    "\n",
    "        return text\n",
    "\n",
    "\n"
   ]
  },
  {
   "cell_type": "code",
   "execution_count": 21,
   "id": "2295ce53",
   "metadata": {
    "execution": {
     "iopub.execute_input": "2023-08-13T08:38:48.633445Z",
     "iopub.status.busy": "2023-08-13T08:38:48.632973Z",
     "iopub.status.idle": "2023-08-13T08:38:48.641445Z",
     "shell.execute_reply": "2023-08-13T08:38:48.639985Z"
    },
    "papermill": {
     "duration": 0.03253,
     "end_time": "2023-08-13T08:38:48.644236",
     "exception": false,
     "start_time": "2023-08-13T08:38:48.611706",
     "status": "completed"
    },
    "tags": []
   },
   "outputs": [],
   "source": [
    "class DirectorProcessor(BaseEstimator, TransformerMixin):\n",
    "    def fit(self, X, y=None):\n",
    "        return self\n",
    "\n",
    "    def transform(self, X):\n",
    "        X_copy = X.copy()\n",
    "        X_copy['director'] = X_copy['director'].str.split(', ')\n",
    "        X_copy['director'] = X_copy['director'].apply(lambda x: '|'.join(map(str, x)) if isinstance(x, list) else x)\n",
    "        return X_copy"
   ]
  },
  {
   "cell_type": "code",
   "execution_count": 22,
   "id": "117d5881",
   "metadata": {
    "execution": {
     "iopub.execute_input": "2023-08-13T08:38:48.687798Z",
     "iopub.status.busy": "2023-08-13T08:38:48.687352Z",
     "iopub.status.idle": "2023-08-13T08:38:48.699414Z",
     "shell.execute_reply": "2023-08-13T08:38:48.697552Z"
    },
    "papermill": {
     "duration": 0.038528,
     "end_time": "2023-08-13T08:38:48.702412",
     "exception": false,
     "start_time": "2023-08-13T08:38:48.663884",
     "status": "completed"
    },
    "tags": []
   },
   "outputs": [],
   "source": [
    "\n",
    "class BoxOfficeTransformer(BaseEstimator, TransformerMixin):\n",
    "    def __init__(self):\n",
    "        pass\n",
    "\n",
    "    def fit(self, X, y=None):\n",
    "        return self\n",
    "\n",
    "    def transform(self, X):\n",
    "        X = X.astype(str)\n",
    "        return X.apply(self.convert_bo)\n",
    "    \n",
    "    def convert_bo(self, x):\n",
    "        if isinstance(x, str):\n",
    "            x = x.replace('$', '')\n",
    "            x = x.replace(',', '')\n",
    "            if x == 'R':\n",
    "                x = x.replace('R', '')\n",
    "                return float(x) \n",
    "            elif x.endswith('K'):\n",
    "                x = x.replace('K', '')\n",
    "                return float(x) * 1000\n",
    "            elif x.endswith('M'):\n",
    "                x = x.replace('M', '')\n",
    "                return float(x) * 1000000\n",
    "            elif x.endswith('B'):\n",
    "                x = x.replace('B', '')  \n",
    "                return float(x) * 1000000000\n",
    "            else:\n",
    "                return float(x)\n",
    "            print(str)\n",
    "        else:\n",
    "            return np.nan"
   ]
  },
  {
   "cell_type": "code",
   "execution_count": 23,
   "id": "06fb470b",
   "metadata": {
    "execution": {
     "iopub.execute_input": "2023-08-13T08:38:48.744139Z",
     "iopub.status.busy": "2023-08-13T08:38:48.742565Z",
     "iopub.status.idle": "2023-08-13T08:38:48.749111Z",
     "shell.execute_reply": "2023-08-13T08:38:48.747645Z"
    },
    "papermill": {
     "duration": 0.030339,
     "end_time": "2023-08-13T08:38:48.751768",
     "exception": false,
     "start_time": "2023-08-13T08:38:48.721429",
     "status": "completed"
    },
    "tags": []
   },
   "outputs": [],
   "source": [
    "text_pipeline = Pipeline([\n",
    "    ('text_processor', TextProcessor()),         \n",
    "    ('tfidf_vectorizer', TfidfVectorizer(stop_words='english'))\n",
    "])"
   ]
  },
  {
   "cell_type": "code",
   "execution_count": 24,
   "id": "e94c35f7",
   "metadata": {
    "execution": {
     "iopub.execute_input": "2023-08-13T08:38:48.791929Z",
     "iopub.status.busy": "2023-08-13T08:38:48.791123Z",
     "iopub.status.idle": "2023-08-13T08:38:48.797014Z",
     "shell.execute_reply": "2023-08-13T08:38:48.795697Z"
    },
    "papermill": {
     "duration": 0.029591,
     "end_time": "2023-08-13T08:38:48.799910",
     "exception": false,
     "start_time": "2023-08-13T08:38:48.770319",
     "status": "completed"
    },
    "tags": []
   },
   "outputs": [],
   "source": [
    "text_cat_pipeline = Pipeline([\n",
    "    ('text_processor', TextProcessor()),         \n",
    "    ('count', CountVectorizer())    \n",
    "])"
   ]
  },
  {
   "cell_type": "code",
   "execution_count": 25,
   "id": "39b6e702",
   "metadata": {
    "execution": {
     "iopub.execute_input": "2023-08-13T08:38:48.840879Z",
     "iopub.status.busy": "2023-08-13T08:38:48.840062Z",
     "iopub.status.idle": "2023-08-13T08:38:48.846182Z",
     "shell.execute_reply": "2023-08-13T08:38:48.844713Z"
    },
    "papermill": {
     "duration": 0.029971,
     "end_time": "2023-08-13T08:38:48.848978",
     "exception": false,
     "start_time": "2023-08-13T08:38:48.819007",
     "status": "completed"
    },
    "tags": []
   },
   "outputs": [],
   "source": [
    "numeric_pipeline = Pipeline([\n",
    "    ('imputer', SimpleImputer(strategy='median')),\n",
    "    ('scaler', StandardScaler())   \n",
    "])"
   ]
  },
  {
   "cell_type": "code",
   "execution_count": 26,
   "id": "47f03f0d",
   "metadata": {
    "execution": {
     "iopub.execute_input": "2023-08-13T08:38:48.889831Z",
     "iopub.status.busy": "2023-08-13T08:38:48.889331Z",
     "iopub.status.idle": "2023-08-13T08:38:48.895225Z",
     "shell.execute_reply": "2023-08-13T08:38:48.894217Z"
    },
    "papermill": {
     "duration": 0.029029,
     "end_time": "2023-08-13T08:38:48.897623",
     "exception": false,
     "start_time": "2023-08-13T08:38:48.868594",
     "status": "completed"
    },
    "tags": []
   },
   "outputs": [],
   "source": [
    "box_office_pipeline = Pipeline([\n",
    "    ('box_office_transformer', BoxOfficeTransformer()),\n",
    "    ('reshape', FunctionTransformer(lambda x: x.values.reshape(-1,1), validate=False)),\n",
    "    ('num', numeric_pipeline)\n",
    "])"
   ]
  },
  {
   "cell_type": "code",
   "execution_count": 27,
   "id": "5694915d",
   "metadata": {
    "execution": {
     "iopub.execute_input": "2023-08-13T08:38:48.937364Z",
     "iopub.status.busy": "2023-08-13T08:38:48.936254Z",
     "iopub.status.idle": "2023-08-13T08:38:48.942897Z",
     "shell.execute_reply": "2023-08-13T08:38:48.941771Z"
    },
    "papermill": {
     "duration": 0.029331,
     "end_time": "2023-08-13T08:38:48.945502",
     "exception": false,
     "start_time": "2023-08-13T08:38:48.916171",
     "status": "completed"
    },
    "tags": []
   },
   "outputs": [],
   "source": [
    "categorical_pipeline = Pipeline([\n",
    "    ('imputer', SimpleImputer(strategy='constant', fill_value='missing')),\n",
    "#     ('scaler', StandardScaler(with_mean=False)),\n",
    "#     ('director_processor', DirectorProcessor()),\n",
    "    ('onehot', OneHotEncoder(handle_unknown='ignore'))\n",
    "\n",
    "])"
   ]
  },
  {
   "cell_type": "code",
   "execution_count": 28,
   "id": "1fec3673",
   "metadata": {
    "execution": {
     "iopub.execute_input": "2023-08-13T08:38:48.985419Z",
     "iopub.status.busy": "2023-08-13T08:38:48.984454Z",
     "iopub.status.idle": "2023-08-13T08:38:48.991830Z",
     "shell.execute_reply": "2023-08-13T08:38:48.990791Z"
    },
    "papermill": {
     "duration": 0.030706,
     "end_time": "2023-08-13T08:38:48.994590",
     "exception": false,
     "start_time": "2023-08-13T08:38:48.963884",
     "status": "completed"
    },
    "tags": []
   },
   "outputs": [],
   "source": [
    "preprocessor = ColumnTransformer([\n",
    "    ('reviewText', text_pipeline, 'reviewText'),\n",
    "    ('genre', text_cat_pipeline, 'genre'),\n",
    "    ('ratingContents', text_cat_pipeline, 'ratingContents'),\n",
    "    ('numeric', numeric_pipeline, ['audienceScore', 'runtimeMinutes']),\n",
    "    ('boxoffice', box_office_pipeline, 'boxOffice'),\n",
    "    ('categorical', categorical_pipeline, ['rating', 'director', 'distributor', 'releaseDateStreaming', 'releaseDateTheaters', 'soundType', 'originalLanguage']),\n",
    "])"
   ]
  },
  {
   "cell_type": "markdown",
   "id": "b05323a1",
   "metadata": {
    "papermill": {
     "duration": 0.018362,
     "end_time": "2023-08-13T08:38:49.032387",
     "exception": false,
     "start_time": "2023-08-13T08:38:49.014025",
     "status": "completed"
    },
    "tags": []
   },
   "source": [
    "# Feature Engineering:"
   ]
  },
  {
   "cell_type": "code",
   "execution_count": 29,
   "id": "90f5f3d5",
   "metadata": {
    "execution": {
     "iopub.execute_input": "2023-08-13T08:38:49.072667Z",
     "iopub.status.busy": "2023-08-13T08:38:49.071078Z",
     "iopub.status.idle": "2023-08-13T08:38:49.561454Z",
     "shell.execute_reply": "2023-08-13T08:38:49.560115Z"
    },
    "papermill": {
     "duration": 0.514109,
     "end_time": "2023-08-13T08:38:49.564976",
     "exception": false,
     "start_time": "2023-08-13T08:38:49.050867",
     "status": "completed"
    },
    "tags": []
   },
   "outputs": [],
   "source": [
    "# Performing oversampling on the training data\n",
    "oversampler = RandomOverSampler(sampling_strategy='auto', random_state=42)\n",
    "X_train_resampled, y_train_resampled = oversampler.fit_resample(X_train, y_train)"
   ]
  },
  {
   "cell_type": "code",
   "execution_count": 30,
   "id": "402c6413",
   "metadata": {
    "execution": {
     "iopub.execute_input": "2023-08-13T08:38:49.606105Z",
     "iopub.status.busy": "2023-08-13T08:38:49.605581Z",
     "iopub.status.idle": "2023-08-13T08:38:49.653195Z",
     "shell.execute_reply": "2023-08-13T08:38:49.651674Z"
    },
    "papermill": {
     "duration": 0.072464,
     "end_time": "2023-08-13T08:38:49.656666",
     "exception": false,
     "start_time": "2023-08-13T08:38:49.584202",
     "status": "completed"
    },
    "tags": []
   },
   "outputs": [],
   "source": [
    "from sklearn.feature_selection import SelectKBest, SelectPercentile\n",
    "\n",
    "skb = SelectKBest(k=1000)\n",
    "k_percentile = SelectPercentile(percentile=25)\n",
    "# k_percentile = SelectPercentile(score_func=mutual_info_classif, percentile=25)\n",
    "\n"
   ]
  },
  {
   "cell_type": "code",
   "execution_count": 31,
   "id": "1273343c",
   "metadata": {
    "execution": {
     "iopub.execute_input": "2023-08-13T08:38:49.699770Z",
     "iopub.status.busy": "2023-08-13T08:38:49.699230Z",
     "iopub.status.idle": "2023-08-13T08:39:44.989765Z",
     "shell.execute_reply": "2023-08-13T08:39:44.988163Z"
    },
    "papermill": {
     "duration": 55.333251,
     "end_time": "2023-08-13T08:39:45.009745",
     "exception": false,
     "start_time": "2023-08-13T08:38:49.676494",
     "status": "completed"
    },
    "tags": []
   },
   "outputs": [
    {
     "name": "stdout",
     "output_type": "stream",
     "text": [
      "Accuracy: 0.82\n"
     ]
    }
   ],
   "source": [
    "from sklearn.feature_selection import SelectFromModel, mutual_info_classif\n",
    "\n",
    "logreg_pipeline = Pipeline([\n",
    "    ('preprocessor', preprocessor),\n",
    "#     ('skb', skb),\n",
    "    ('k_percentile', k_percentile),\n",
    "#     ('feature_selector', SelectKBest(score_func=mutual_info_classif, k=10)),\n",
    "#     ('feature_selector', feature_selector),\n",
    "    ('logreg', LogisticRegression(max_iter=100000))\n",
    "])\n",
    "\n",
    "logreg_pipeline.fit(X_train, y_train)\n",
    "\n",
    "accuracy = logreg_pipeline.score(X_test, y_test)\n",
    "print(f\"Accuracy: {accuracy:.2f}\")\n",
    "\n"
   ]
  },
  {
   "cell_type": "code",
   "execution_count": 32,
   "id": "1ea0295d",
   "metadata": {
    "execution": {
     "iopub.execute_input": "2023-08-13T08:39:45.048413Z",
     "iopub.status.busy": "2023-08-13T08:39:45.047997Z",
     "iopub.status.idle": "2023-08-13T08:51:56.259375Z",
     "shell.execute_reply": "2023-08-13T08:51:56.257901Z"
    },
    "papermill": {
     "duration": 731.254252,
     "end_time": "2023-08-13T08:51:56.282153",
     "exception": false,
     "start_time": "2023-08-13T08:39:45.027901",
     "status": "completed"
    },
    "tags": []
   },
   "outputs": [
    {
     "name": "stderr",
     "output_type": "stream",
     "text": [
      "/opt/conda/lib/python3.10/site-packages/sklearn/ensemble/_base.py:166: FutureWarning: `base_estimator` was renamed to `estimator` in version 1.2 and will be removed in 1.4.\n",
      "  warnings.warn(\n"
     ]
    },
    {
     "name": "stdout",
     "output_type": "stream",
     "text": [
      "Bagging Accuracy: 0.82\n"
     ]
    },
    {
     "name": "stderr",
     "output_type": "stream",
     "text": [
      "/opt/conda/lib/python3.10/site-packages/sklearn/ensemble/_base.py:166: FutureWarning: `base_estimator` was renamed to `estimator` in version 1.2 and will be removed in 1.4.\n",
      "  warnings.warn(\n"
     ]
    },
    {
     "name": "stdout",
     "output_type": "stream",
     "text": [
      "Boosting Accuracy: 0.71\n"
     ]
    }
   ],
   "source": [
    "# ensemble models\n",
    "bagging_model = BaggingClassifier(base_estimator=logreg_pipeline['logreg'], n_estimators=10, random_state=42)\n",
    "boosting_model = AdaBoostClassifier(base_estimator=logreg_pipeline['logreg'], n_estimators=50, random_state=42)\n",
    "\n",
    "# final ensembled pipelines\n",
    "bagging_pipeline = make_pipeline(logreg_pipeline['preprocessor'], bagging_model)\n",
    "boosting_pipeline = make_pipeline(logreg_pipeline['preprocessor'], boosting_model)\n",
    "\n",
    "# Fit and evaluate the bagging pipeline\n",
    "bagging_pipeline.fit(X_train, y_train)\n",
    "bagging_predictions = bagging_pipeline.predict(X_test)\n",
    "bagging_accuracy = accuracy_score(y_test, bagging_predictions)\n",
    "print(f'Bagging Accuracy: {bagging_accuracy:.2f}')\n",
    "\n",
    "# Fit and evaluate the boosting pipeline\n",
    "boosting_pipeline.fit(X_train, y_train)\n",
    "boosting_predictions = boosting_pipeline.predict(X_test)\n",
    "boosting_accuracy = accuracy_score(y_test, boosting_predictions)\n",
    "print(f'Boosting Accuracy: {boosting_accuracy:.2f}')\n"
   ]
  },
  {
   "cell_type": "code",
   "execution_count": 33,
   "id": "fba171a6",
   "metadata": {
    "execution": {
     "iopub.execute_input": "2023-08-13T08:51:56.325038Z",
     "iopub.status.busy": "2023-08-13T08:51:56.324547Z",
     "iopub.status.idle": "2023-08-13T08:51:56.330421Z",
     "shell.execute_reply": "2023-08-13T08:51:56.329115Z"
    },
    "papermill": {
     "duration": 0.030569,
     "end_time": "2023-08-13T08:51:56.333172",
     "exception": false,
     "start_time": "2023-08-13T08:51:56.302603",
     "status": "completed"
    },
    "tags": []
   },
   "outputs": [],
   "source": [
    "# from sklearn.ensemble import GradientBoostingClassifier\n",
    "\n",
    "# # Define the Gradient Boosting Classifier pipeline\n",
    "# gb_pipeline = Pipeline([\n",
    "#     ('preprocessor', preprocessor),\n",
    "#     ('k_percentile', k_percentile),  # If you're using feature selection\n",
    "#     ('gb_classifier', GradientBoostingClassifier())\n",
    "# ])\n",
    "\n",
    "# # Fit the Gradient Boosting Classifier pipeline on the training data\n",
    "# gb_pipeline.fit(X_train, y_train)\n",
    "\n",
    "# # Predict sentiments on the test data\n",
    "# predictions = gb_pipeline.predict(X_test)\n",
    "\n",
    "# accuracy = gb_pipeline.score(X_test, y_test)\n",
    "# print(f\"Accuracy: {accuracy:.2f}\")"
   ]
  },
  {
   "cell_type": "code",
   "execution_count": 34,
   "id": "df325b6e",
   "metadata": {
    "execution": {
     "iopub.execute_input": "2023-08-13T08:51:56.376339Z",
     "iopub.status.busy": "2023-08-13T08:51:56.375610Z",
     "iopub.status.idle": "2023-08-13T08:55:37.194460Z",
     "shell.execute_reply": "2023-08-13T08:55:37.192784Z"
    },
    "papermill": {
     "duration": 220.862907,
     "end_time": "2023-08-13T08:55:37.216448",
     "exception": false,
     "start_time": "2023-08-13T08:51:56.353541",
     "status": "completed"
    },
    "tags": []
   },
   "outputs": [
    {
     "data": {
      "text/plain": [
       "0.8151747661575541"
      ]
     },
     "execution_count": 34,
     "metadata": {},
     "output_type": "execute_result"
    }
   ],
   "source": [
    "# cross-validation\n",
    "cv_scores = cross_val_score(logreg_pipeline, X_train, y_train, cv=5, scoring='accuracy')\n",
    "\n",
    "cv_scores\n",
    "cv_scores.mean()"
   ]
  },
  {
   "cell_type": "code",
   "execution_count": 35,
   "id": "f9cdb86a",
   "metadata": {
    "execution": {
     "iopub.execute_input": "2023-08-13T08:55:37.256720Z",
     "iopub.status.busy": "2023-08-13T08:55:37.256308Z",
     "iopub.status.idle": "2023-08-13T08:55:44.503782Z",
     "shell.execute_reply": "2023-08-13T08:55:44.502482Z"
    },
    "papermill": {
     "duration": 7.270578,
     "end_time": "2023-08-13T08:55:44.506340",
     "exception": false,
     "start_time": "2023-08-13T08:55:37.235762",
     "status": "completed"
    },
    "tags": []
   },
   "outputs": [
    {
     "name": "stdout",
     "output_type": "stream",
     "text": [
      "Classification Report:\n",
      "               precision    recall  f1-score   support\n",
      "\n",
      "    Negative       0.77      0.64      0.70     10247\n",
      "    Positive       0.84      0.91      0.87     20802\n",
      "\n",
      "    accuracy                           0.82     31049\n",
      "   macro avg       0.80      0.77      0.78     31049\n",
      "weighted avg       0.81      0.82      0.81     31049\n",
      "\n",
      "AUC-ROC Score: 0.8818032286402411\n"
     ]
    }
   ],
   "source": [
    "from sklearn.metrics import classification_report, roc_auc_score\n",
    "\n",
    "# Predict \n",
    "predictions = logreg_pipeline.predict(X_test)\n",
    "\n",
    "#classification report\n",
    "class_labels = [\"Negative\", \"Positive\"]\n",
    "classification_rep = classification_report(y_test, predictions, target_names=class_labels)\n",
    "print(\"Classification Report:\\n\", classification_rep)\n",
    "\n",
    "# AUC-ROC score\n",
    "y_prob = logreg_pipeline.predict_proba(X_test)\n",
    "roc_auc = roc_auc_score(y_test, y_prob[:, 1]) \n",
    "print(\"AUC-ROC Score:\", roc_auc)\n"
   ]
  },
  {
   "cell_type": "code",
   "execution_count": 36,
   "id": "bb66b7cc",
   "metadata": {
    "execution": {
     "iopub.execute_input": "2023-08-13T08:55:44.547562Z",
     "iopub.status.busy": "2023-08-13T08:55:44.546364Z",
     "iopub.status.idle": "2023-08-13T08:55:48.402506Z",
     "shell.execute_reply": "2023-08-13T08:55:48.401082Z"
    },
    "papermill": {
     "duration": 3.879896,
     "end_time": "2023-08-13T08:55:48.405390",
     "exception": false,
     "start_time": "2023-08-13T08:55:44.525494",
     "status": "completed"
    },
    "tags": []
   },
   "outputs": [
    {
     "data": {
      "image/png": "[encoded data removed]",
      "text/plain": [
       "<Figure size 640x480 with 1 Axes>"
      ]
     },
     "metadata": {},
     "output_type": "display_data"
    }
   ],
   "source": [
    "# Plot ROC curve\n",
    "from sklearn.metrics import RocCurveDisplay\n",
    "\n",
    "\n",
    "RocCurveDisplay.from_estimator(logreg_pipeline, X_test, y_test)\n",
    "plt.title('Receiver Operating Characteristic (ROC) Curve')\n",
    "plt.xlabel('False Positive Rate')\n",
    "plt.ylabel('True Positive Rate')\n",
    "plt.show()\n"
   ]
  },
  {
   "cell_type": "code",
   "execution_count": 37,
   "id": "f7dd6e87",
   "metadata": {
    "execution": {
     "iopub.execute_input": "2023-08-13T08:55:48.448595Z",
     "iopub.status.busy": "2023-08-13T08:55:48.447320Z",
     "iopub.status.idle": "2023-08-13T08:55:48.453093Z",
     "shell.execute_reply": "2023-08-13T08:55:48.452137Z"
    },
    "papermill": {
     "duration": 0.029694,
     "end_time": "2023-08-13T08:55:48.455337",
     "exception": false,
     "start_time": "2023-08-13T08:55:48.425643",
     "status": "completed"
    },
    "tags": []
   },
   "outputs": [],
   "source": [
    "# from sklearn.ensemble import RandomForestClassifier\n",
    "# random_forest_pipeline = Pipeline([\n",
    "#     ('preprocessor', preprocessor),\n",
    "#     ('random_forest', RandomForestClassifier())  # Use RandomForestClassifier\n",
    "# ])\n",
    "\n",
    "# random_forest_pipeline.fit(X_train, y_train)\n",
    "# accuracy = random_forest_pipeline.score(X_test, y_test)\n",
    "# print(f\"Accuracy: {accuracy:.2f}\")\n"
   ]
  },
  {
   "cell_type": "code",
   "execution_count": 38,
   "id": "eadefe68",
   "metadata": {
    "execution": {
     "iopub.execute_input": "2023-08-13T08:55:48.498092Z",
     "iopub.status.busy": "2023-08-13T08:55:48.497651Z",
     "iopub.status.idle": "2023-08-13T08:55:48.502151Z",
     "shell.execute_reply": "2023-08-13T08:55:48.501304Z"
    },
    "papermill": {
     "duration": 0.029179,
     "end_time": "2023-08-13T08:55:48.504353",
     "exception": false,
     "start_time": "2023-08-13T08:55:48.475174",
     "status": "completed"
    },
    "tags": []
   },
   "outputs": [],
   "source": [
    "# from sklearn.neighbors import KNeighborsClassifier\n",
    "\n",
    "# knn_pipeline = Pipeline([\n",
    "#     ('preprocessor', preprocessor),\n",
    "#     ('knn', KNeighborsClassifier())  # Use KNeighborsClassifier\n",
    "# ])\n",
    "\n",
    "# knn_pipeline.fit(X_train, y_train)\n",
    "# accuracy = knn_pipeline.score(X_test, y_test)\n",
    "# print(f\"Accuracy: {accuracy:.2f}\")\n"
   ]
  },
  {
   "cell_type": "code",
   "execution_count": 39,
   "id": "6bebf711",
   "metadata": {
    "execution": {
     "iopub.execute_input": "2023-08-13T08:55:48.548373Z",
     "iopub.status.busy": "2023-08-13T08:55:48.547489Z",
     "iopub.status.idle": "2023-08-13T08:55:48.552391Z",
     "shell.execute_reply": "2023-08-13T08:55:48.551537Z"
    },
    "papermill": {
     "duration": 0.02947,
     "end_time": "2023-08-13T08:55:48.554639",
     "exception": false,
     "start_time": "2023-08-13T08:55:48.525169",
     "status": "completed"
    },
    "tags": []
   },
   "outputs": [],
   "source": [
    "# svm_pipeline = Pipeline([\n",
    "#     ('preprocessor', preprocessor),\n",
    "#     ('svm', SVC())  # Use SVC (Support Vector Machine) classifier\n",
    "# ])\n",
    "\n",
    "# svm_pipeline.fit(X_train, y_train)\n",
    "# accuracy = svm_pipeline.score(X_test, y_test)\n",
    "# print(f\"Accuracy: {accuracy:.2f}\")\n"
   ]
  },
  {
   "cell_type": "markdown",
   "id": "ebb4bd90",
   "metadata": {
    "papermill": {
     "duration": 0.019792,
     "end_time": "2023-08-13T08:55:48.596105",
     "exception": false,
     "start_time": "2023-08-13T08:55:48.576313",
     "status": "completed"
    },
    "tags": []
   },
   "source": [
    "# CART"
   ]
  },
  {
   "cell_type": "code",
   "execution_count": 40,
   "id": "b1a4b31a",
   "metadata": {
    "execution": {
     "iopub.execute_input": "2023-08-13T08:55:48.638808Z",
     "iopub.status.busy": "2023-08-13T08:55:48.637989Z",
     "iopub.status.idle": "2023-08-13T08:55:48.642908Z",
     "shell.execute_reply": "2023-08-13T08:55:48.641668Z"
    },
    "papermill": {
     "duration": 0.029069,
     "end_time": "2023-08-13T08:55:48.645323",
     "exception": false,
     "start_time": "2023-08-13T08:55:48.616254",
     "status": "completed"
    },
    "tags": []
   },
   "outputs": [],
   "source": [
    "# from sklearn.tree import DecisionTreeClassifier\n",
    "\n",
    "\n",
    "# decision_tree_pipeline = Pipeline([\n",
    "#     ('preprocessor', preprocessor),\n",
    "#     ('decision_tree', DecisionTreeClassifier())  # Use DecisionTreeClassifier\n",
    "# ])\n",
    "\n",
    "# decision_tree_pipeline.fit(X_train, y_train)\n",
    "# accuracy = decision_tree_pipeline.score(X_test, y_test)\n",
    "# print(f\"Accuracy: {accuracy:.2f}\")\n"
   ]
  },
  {
   "cell_type": "code",
   "execution_count": 41,
   "id": "3b047170",
   "metadata": {
    "execution": {
     "iopub.execute_input": "2023-08-13T08:55:48.688281Z",
     "iopub.status.busy": "2023-08-13T08:55:48.687742Z",
     "iopub.status.idle": "2023-08-13T08:55:48.696546Z",
     "shell.execute_reply": "2023-08-13T08:55:48.694773Z"
    },
    "papermill": {
     "duration": 0.033937,
     "end_time": "2023-08-13T08:55:48.699318",
     "exception": false,
     "start_time": "2023-08-13T08:55:48.665381",
     "status": "completed"
    },
    "tags": []
   },
   "outputs": [
    {
     "data": {
      "text/plain": [
       "Index(['reviewText', 'rating', 'genre', 'ratingContents', 'audienceScore',\n",
       "       'distributor', 'boxOffice', 'releaseDateStreaming',\n",
       "       'releaseDateTheaters', 'director', 'soundType', 'runtimeMinutes',\n",
       "       'originalLanguage'],\n",
       "      dtype='object')"
      ]
     },
     "execution_count": 41,
     "metadata": {},
     "output_type": "execute_result"
    }
   ],
   "source": [
    "X_test.columns"
   ]
  },
  {
   "cell_type": "code",
   "execution_count": 42,
   "id": "786e459a",
   "metadata": {
    "execution": {
     "iopub.execute_input": "2023-08-13T08:55:48.743004Z",
     "iopub.status.busy": "2023-08-13T08:55:48.742467Z",
     "iopub.status.idle": "2023-08-13T08:55:48.749368Z",
     "shell.execute_reply": "2023-08-13T08:55:48.747852Z"
    },
    "papermill": {
     "duration": 0.031736,
     "end_time": "2023-08-13T08:55:48.751679",
     "exception": false,
     "start_time": "2023-08-13T08:55:48.719943",
     "status": "completed"
    },
    "tags": []
   },
   "outputs": [],
   "source": [
    "col = ['reviewText', 'rating', 'genre', 'ratingContents', 'audienceScore',\n",
    "       'distributor', 'boxOffice', 'releaseDateStreaming',\n",
    "       'releaseDateTheaters', 'director', 'soundType', 'runtimeMinutes',\n",
    "       'originalLanguage']"
   ]
  },
  {
   "cell_type": "code",
   "execution_count": 43,
   "id": "f5a69d6b",
   "metadata": {
    "execution": {
     "iopub.execute_input": "2023-08-13T08:55:48.798017Z",
     "iopub.status.busy": "2023-08-13T08:55:48.796700Z",
     "iopub.status.idle": "2023-08-13T08:55:48.802538Z",
     "shell.execute_reply": "2023-08-13T08:55:48.801574Z"
    },
    "papermill": {
     "duration": 0.031602,
     "end_time": "2023-08-13T08:55:48.805006",
     "exception": false,
     "start_time": "2023-08-13T08:55:48.773404",
     "status": "completed"
    },
    "tags": []
   },
   "outputs": [],
   "source": [
    "# from lightgbm import LGBMClassifier\n",
    "\n",
    "# lgbm_pipe = Pipeline([\n",
    "#     ('preprocessor', preprocessor),\n",
    "#     ('skb', skb),\n",
    "#     ('lgbm', LGBMClassifier(num_leaves=1000,max_depth=1000,n_jobs=-1,verbose=3,force_col_wise=True))\n",
    "# ])\n",
    "# lgbm_pipe.fit(X_train,y_train)\n",
    "# lgbm_pipe.fit(X_test,y_test)\n",
    "\n",
    "\n",
    "# # Perform cross-validation\n",
    "# cv_scores = cross_val_score(lgbm_pipe, X_train, y_train, cv=5, scoring='accuracy')\n",
    "# cv_scores\n",
    "# cv_scores.mean()"
   ]
  },
  {
   "cell_type": "code",
   "execution_count": 44,
   "id": "2d136850",
   "metadata": {
    "execution": {
     "iopub.execute_input": "2023-08-13T08:55:48.849465Z",
     "iopub.status.busy": "2023-08-13T08:55:48.848670Z",
     "iopub.status.idle": "2023-08-13T08:55:48.854387Z",
     "shell.execute_reply": "2023-08-13T08:55:48.853531Z"
    },
    "papermill": {
     "duration": 0.031025,
     "end_time": "2023-08-13T08:55:48.856772",
     "exception": false,
     "start_time": "2023-08-13T08:55:48.825747",
     "status": "completed"
    },
    "tags": []
   },
   "outputs": [],
   "source": [
    "param_grid = {\n",
    "#     'k_percentile__percentile': [10, 20, 30, 40, 50],\n",
    "#     'logreg__C': [0.1, 1, 10, 100, 1000],\n",
    "#     'logreg__penalty': ['l2'],\n",
    "#     'logreg__solver': ['liblinear', 'lbfgs', 'sag', 'saga', 'newton-cg'],\n",
    "    'logreg__max_iter': [1000],\n",
    "#     'k_percentile__percentile': [10],\n",
    "    'logreg__C': [ 1],\n",
    "    'logreg__penalty': ['l2'],\n",
    "    'logreg__solver': ['liblinear'],\n",
    "}\n",
    "\n"
   ]
  },
  {
   "cell_type": "code",
   "execution_count": 45,
   "id": "5e6d6785",
   "metadata": {
    "execution": {
     "iopub.execute_input": "2023-08-13T08:55:48.900248Z",
     "iopub.status.busy": "2023-08-13T08:55:48.899471Z",
     "iopub.status.idle": "2023-08-13T08:57:28.332071Z",
     "shell.execute_reply": "2023-08-13T08:57:28.330321Z"
    },
    "papermill": {
     "duration": 99.479145,
     "end_time": "2023-08-13T08:57:28.356375",
     "exception": false,
     "start_time": "2023-08-13T08:55:48.877230",
     "status": "completed"
    },
    "tags": []
   },
   "outputs": [
    {
     "name": "stdout",
     "output_type": "stream",
     "text": [
      "Fitting 5 folds for each of 1 candidates, totalling 5 fits\n"
     ]
    },
    {
     "data": {
      "text/html": [
       "<style>#sk-container-id-1 {color: black;background-color: white;}#sk-container-id-1 pre{padding: 0;}#sk-container-id-1 div.sk-toggleable {background-color: white;}#sk-container-id-1 label.sk-toggleable__label {cursor: pointer;display: block;width: 100%;margin-bottom: 0;padding: 0.3em;box-sizing: border-box;text-align: center;}#sk-container-id-1 label.sk-toggleable__label-arrow:before {content: \"▸\";float: left;margin-right: 0.25em;color: #696969;}#sk-container-id-1 label.sk-toggleable__label-arrow:hover:before {color: black;}#sk-container-id-1 div.sk-estimator:hover label.sk-toggleable__label-arrow:before {color: black;}#sk-container-id-1 div.sk-toggleable__content {max-height: 0;max-width: 0;overflow: hidden;text-align: left;background-color: #f0f8ff;}#sk-container-id-1 div.sk-toggleable__content pre {margin: 0.2em;color: black;border-radius: 0.25em;background-color: #f0f8ff;}#sk-container-id-1 input.sk-toggleable__control:checked~div.sk-toggleable__content {max-height: 200px;max-width: 100%;overflow: auto;}#sk-container-id-1 input.sk-toggleable__control:checked~label.sk-toggleable__label-arrow:before {content: \"▾\";}#sk-container-id-1 div.sk-estimator input.sk-toggleable__control:checked~label.sk-toggleable__label {background-color: #d4ebff;}#sk-container-id-1 div.sk-label input.sk-toggleable__control:checked~label.sk-toggleable__label {background-color: #d4ebff;}#sk-container-id-1 input.sk-hidden--visually {border: 0;clip: rect(1px 1px 1px 1px);clip: rect(1px, 1px, 1px, 1px);height: 1px;margin: -1px;overflow: hidden;padding: 0;position: absolute;width: 1px;}#sk-container-id-1 div.sk-estimator {font-family: monospace;background-color: #f0f8ff;border: 1px dotted black;border-radius: 0.25em;box-sizing: border-box;margin-bottom: 0.5em;}#sk-container-id-1 div.sk-estimator:hover {background-color: #d4ebff;}#sk-container-id-1 div.sk-parallel-item::after {content: \"\";width: 100%;border-bottom: 1px solid gray;flex-grow: 1;}#sk-container-id-1 div.sk-label:hover label.sk-toggleable__label {background-color: #d4ebff;}#sk-container-id-1 div.sk-serial::before {content: \"\";position: absolute;border-left: 1px solid gray;box-sizing: border-box;top: 0;bottom: 0;left: 50%;z-index: 0;}#sk-container-id-1 div.sk-serial {display: flex;flex-direction: column;align-items: center;background-color: white;padding-right: 0.2em;padding-left: 0.2em;position: relative;}#sk-container-id-1 div.sk-item {position: relative;z-index: 1;}#sk-container-id-1 div.sk-parallel {display: flex;align-items: stretch;justify-content: center;background-color: white;position: relative;}#sk-container-id-1 div.sk-item::before, #sk-container-id-1 div.sk-parallel-item::before {content: \"\";position: absolute;border-left: 1px solid gray;box-sizing: border-box;top: 0;bottom: 0;left: 50%;z-index: -1;}#sk-container-id-1 div.sk-parallel-item {display: flex;flex-direction: column;z-index: 1;position: relative;background-color: white;}#sk-container-id-1 div.sk-parallel-item:first-child::after {align-self: flex-end;width: 50%;}#sk-container-id-1 div.sk-parallel-item:last-child::after {align-self: flex-start;width: 50%;}#sk-container-id-1 div.sk-parallel-item:only-child::after {width: 0;}#sk-container-id-1 div.sk-dashed-wrapped {border: 1px dashed gray;margin: 0 0.4em 0.5em 0.4em;box-sizing: border-box;padding-bottom: 0.4em;background-color: white;}#sk-container-id-1 div.sk-label label {font-family: monospace;font-weight: bold;display: inline-block;line-height: 1.2em;}#sk-container-id-1 div.sk-label-container {text-align: center;}#sk-container-id-1 div.sk-container {/* jupyter's `normalize.less` sets `[hidden] { display: none; }` but bootstrap.min.css set `[hidden] { display: none !important; }` so we also need the `!important` here to be able to override the default hidden behavior on the sphinx rendered scikit-learn.org. See: https://github.com/scikit-learn/scikit-learn/issues/21755 */display: inline-block !important;position: relative;}#sk-container-id-1 div.sk-text-repr-fallback {display: none;}</style><div id=\"sk-container-id-1\" class=\"sk-top-container\"><div class=\"sk-text-repr-fallback\"><pre>GridSearchCV(cv=5,\n",
       "             estimator=Pipeline(steps=[(&#x27;preprocessor&#x27;,\n",
       "                                        ColumnTransformer(transformers=[(&#x27;reviewText&#x27;,\n",
       "                                                                         Pipeline(steps=[(&#x27;text_processor&#x27;,\n",
       "                                                                                          TextProcessor()),\n",
       "                                                                                         (&#x27;tfidf_vectorizer&#x27;,\n",
       "                                                                                          TfidfVectorizer(stop_words=&#x27;english&#x27;))]),\n",
       "                                                                         &#x27;reviewText&#x27;),\n",
       "                                                                        (&#x27;genre&#x27;,\n",
       "                                                                         Pipeline(steps=[(&#x27;text_processor&#x27;,\n",
       "                                                                                          TextProcessor()),\n",
       "                                                                                         (&#x27;count&#x27;,\n",
       "                                                                                          CountVectorizer())]),\n",
       "                                                                         &#x27;genre&#x27;),\n",
       "                                                                        (&#x27;ratingContents&#x27;,\n",
       "                                                                         P...\n",
       "                                                                          &#x27;director&#x27;,\n",
       "                                                                          &#x27;distributor&#x27;,\n",
       "                                                                          &#x27;releaseDateStreaming&#x27;,\n",
       "                                                                          &#x27;releaseDateTheaters&#x27;,\n",
       "                                                                          &#x27;soundType&#x27;,\n",
       "                                                                          &#x27;originalLanguage&#x27;])])),\n",
       "                                       (&#x27;k_percentile&#x27;,\n",
       "                                        SelectPercentile(percentile=25)),\n",
       "                                       (&#x27;logreg&#x27;,\n",
       "                                        LogisticRegression(max_iter=100000))]),\n",
       "             n_jobs=-1,\n",
       "             param_grid={&#x27;logreg__C&#x27;: [1], &#x27;logreg__max_iter&#x27;: [1000],\n",
       "                         &#x27;logreg__penalty&#x27;: [&#x27;l2&#x27;],\n",
       "                         &#x27;logreg__solver&#x27;: [&#x27;liblinear&#x27;]},\n",
       "             scoring=&#x27;accuracy&#x27;, verbose=3)</pre><b>In a Jupyter environment, please rerun this cell to show the HTML representation or trust the notebook. <br />On GitHub, the HTML representation is unable to render, please try loading this page with nbviewer.org.</b></div><div class=\"sk-container\" hidden><div class=\"sk-item sk-dashed-wrapped\"><div class=\"sk-label-container\"><div class=\"sk-label sk-toggleable\"><input class=\"sk-toggleable__control sk-hidden--visually\" id=\"sk-estimator-id-1\" type=\"checkbox\" ><label for=\"sk-estimator-id-1\" class=\"sk-toggleable__label sk-toggleable__label-arrow\">GridSearchCV</label><div class=\"sk-toggleable__content\"><pre>GridSearchCV(cv=5,\n",
       "             estimator=Pipeline(steps=[(&#x27;preprocessor&#x27;,\n",
       "                                        ColumnTransformer(transformers=[(&#x27;reviewText&#x27;,\n",
       "                                                                         Pipeline(steps=[(&#x27;text_processor&#x27;,\n",
       "                                                                                          TextProcessor()),\n",
       "                                                                                         (&#x27;tfidf_vectorizer&#x27;,\n",
       "                                                                                          TfidfVectorizer(stop_words=&#x27;english&#x27;))]),\n",
       "                                                                         &#x27;reviewText&#x27;),\n",
       "                                                                        (&#x27;genre&#x27;,\n",
       "                                                                         Pipeline(steps=[(&#x27;text_processor&#x27;,\n",
       "                                                                                          TextProcessor()),\n",
       "                                                                                         (&#x27;count&#x27;,\n",
       "                                                                                          CountVectorizer())]),\n",
       "                                                                         &#x27;genre&#x27;),\n",
       "                                                                        (&#x27;ratingContents&#x27;,\n",
       "                                                                         P...\n",
       "                                                                          &#x27;director&#x27;,\n",
       "                                                                          &#x27;distributor&#x27;,\n",
       "                                                                          &#x27;releaseDateStreaming&#x27;,\n",
       "                                                                          &#x27;releaseDateTheaters&#x27;,\n",
       "                                                                          &#x27;soundType&#x27;,\n",
       "                                                                          &#x27;originalLanguage&#x27;])])),\n",
       "                                       (&#x27;k_percentile&#x27;,\n",
       "                                        SelectPercentile(percentile=25)),\n",
       "                                       (&#x27;logreg&#x27;,\n",
       "                                        LogisticRegression(max_iter=100000))]),\n",
       "             n_jobs=-1,\n",
       "             param_grid={&#x27;logreg__C&#x27;: [1], &#x27;logreg__max_iter&#x27;: [1000],\n",
       "                         &#x27;logreg__penalty&#x27;: [&#x27;l2&#x27;],\n",
       "                         &#x27;logreg__solver&#x27;: [&#x27;liblinear&#x27;]},\n",
       "             scoring=&#x27;accuracy&#x27;, verbose=3)</pre></div></div></div><div class=\"sk-parallel\"><div class=\"sk-parallel-item\"><div class=\"sk-item\"><div class=\"sk-label-container\"><div class=\"sk-label sk-toggleable\"><input class=\"sk-toggleable__control sk-hidden--visually\" id=\"sk-estimator-id-2\" type=\"checkbox\" ><label for=\"sk-estimator-id-2\" class=\"sk-toggleable__label sk-toggleable__label-arrow\">estimator: Pipeline</label><div class=\"sk-toggleable__content\"><pre>Pipeline(steps=[(&#x27;preprocessor&#x27;,\n",
       "                 ColumnTransformer(transformers=[(&#x27;reviewText&#x27;,\n",
       "                                                  Pipeline(steps=[(&#x27;text_processor&#x27;,\n",
       "                                                                   TextProcessor()),\n",
       "                                                                  (&#x27;tfidf_vectorizer&#x27;,\n",
       "                                                                   TfidfVectorizer(stop_words=&#x27;english&#x27;))]),\n",
       "                                                  &#x27;reviewText&#x27;),\n",
       "                                                 (&#x27;genre&#x27;,\n",
       "                                                  Pipeline(steps=[(&#x27;text_processor&#x27;,\n",
       "                                                                   TextProcessor()),\n",
       "                                                                  (&#x27;count&#x27;,\n",
       "                                                                   CountVectorizer())]),\n",
       "                                                  &#x27;genre&#x27;),\n",
       "                                                 (&#x27;ratingContents&#x27;,\n",
       "                                                  Pipeline(steps=[(&#x27;text_proces...\n",
       "                                                 (&#x27;categorical&#x27;,\n",
       "                                                  Pipeline(steps=[(&#x27;imputer&#x27;,\n",
       "                                                                   SimpleImputer(fill_value=&#x27;missing&#x27;,\n",
       "                                                                                 strategy=&#x27;constant&#x27;)),\n",
       "                                                                  (&#x27;onehot&#x27;,\n",
       "                                                                   OneHotEncoder(handle_unknown=&#x27;ignore&#x27;))]),\n",
       "                                                  [&#x27;rating&#x27;, &#x27;director&#x27;,\n",
       "                                                   &#x27;distributor&#x27;,\n",
       "                                                   &#x27;releaseDateStreaming&#x27;,\n",
       "                                                   &#x27;releaseDateTheaters&#x27;,\n",
       "                                                   &#x27;soundType&#x27;,\n",
       "                                                   &#x27;originalLanguage&#x27;])])),\n",
       "                (&#x27;k_percentile&#x27;, SelectPercentile(percentile=25)),\n",
       "                (&#x27;logreg&#x27;, LogisticRegression(max_iter=100000))])</pre></div></div></div><div class=\"sk-serial\"><div class=\"sk-item\"><div class=\"sk-serial\"><div class=\"sk-item sk-dashed-wrapped\"><div class=\"sk-label-container\"><div class=\"sk-label sk-toggleable\"><input class=\"sk-toggleable__control sk-hidden--visually\" id=\"sk-estimator-id-3\" type=\"checkbox\" ><label for=\"sk-estimator-id-3\" class=\"sk-toggleable__label sk-toggleable__label-arrow\">preprocessor: ColumnTransformer</label><div class=\"sk-toggleable__content\"><pre>ColumnTransformer(transformers=[(&#x27;reviewText&#x27;,\n",
       "                                 Pipeline(steps=[(&#x27;text_processor&#x27;,\n",
       "                                                  TextProcessor()),\n",
       "                                                 (&#x27;tfidf_vectorizer&#x27;,\n",
       "                                                  TfidfVectorizer(stop_words=&#x27;english&#x27;))]),\n",
       "                                 &#x27;reviewText&#x27;),\n",
       "                                (&#x27;genre&#x27;,\n",
       "                                 Pipeline(steps=[(&#x27;text_processor&#x27;,\n",
       "                                                  TextProcessor()),\n",
       "                                                 (&#x27;count&#x27;, CountVectorizer())]),\n",
       "                                 &#x27;genre&#x27;),\n",
       "                                (&#x27;ratingContents&#x27;,\n",
       "                                 Pipeline(steps=[(&#x27;text_processor&#x27;,\n",
       "                                                  TextProcessor()),\n",
       "                                                 (&#x27;count&#x27;, C...\n",
       "                                                  Pipeline(steps=[(&#x27;imputer&#x27;,\n",
       "                                                                   SimpleImputer(strategy=&#x27;median&#x27;)),\n",
       "                                                                  (&#x27;scaler&#x27;,\n",
       "                                                                   StandardScaler())]))]),\n",
       "                                 &#x27;boxOffice&#x27;),\n",
       "                                (&#x27;categorical&#x27;,\n",
       "                                 Pipeline(steps=[(&#x27;imputer&#x27;,\n",
       "                                                  SimpleImputer(fill_value=&#x27;missing&#x27;,\n",
       "                                                                strategy=&#x27;constant&#x27;)),\n",
       "                                                 (&#x27;onehot&#x27;,\n",
       "                                                  OneHotEncoder(handle_unknown=&#x27;ignore&#x27;))]),\n",
       "                                 [&#x27;rating&#x27;, &#x27;director&#x27;, &#x27;distributor&#x27;,\n",
       "                                  &#x27;releaseDateStreaming&#x27;, &#x27;releaseDateTheaters&#x27;,\n",
       "                                  &#x27;soundType&#x27;, &#x27;originalLanguage&#x27;])])</pre></div></div></div><div class=\"sk-parallel\"><div class=\"sk-parallel-item\"><div class=\"sk-item\"><div class=\"sk-label-container\"><div class=\"sk-label sk-toggleable\"><input class=\"sk-toggleable__control sk-hidden--visually\" id=\"sk-estimator-id-4\" type=\"checkbox\" ><label for=\"sk-estimator-id-4\" class=\"sk-toggleable__label sk-toggleable__label-arrow\">reviewText</label><div class=\"sk-toggleable__content\"><pre>reviewText</pre></div></div></div><div class=\"sk-serial\"><div class=\"sk-item\"><div class=\"sk-serial\"><div class=\"sk-item\"><div class=\"sk-estimator sk-toggleable\"><input class=\"sk-toggleable__control sk-hidden--visually\" id=\"sk-estimator-id-5\" type=\"checkbox\" ><label for=\"sk-estimator-id-5\" class=\"sk-toggleable__label sk-toggleable__label-arrow\">TextProcessor</label><div class=\"sk-toggleable__content\"><pre>TextProcessor()</pre></div></div></div><div class=\"sk-item\"><div class=\"sk-estimator sk-toggleable\"><input class=\"sk-toggleable__control sk-hidden--visually\" id=\"sk-estimator-id-6\" type=\"checkbox\" ><label for=\"sk-estimator-id-6\" class=\"sk-toggleable__label sk-toggleable__label-arrow\">TfidfVectorizer</label><div class=\"sk-toggleable__content\"><pre>TfidfVectorizer(stop_words=&#x27;english&#x27;)</pre></div></div></div></div></div></div></div></div><div class=\"sk-parallel-item\"><div class=\"sk-item\"><div class=\"sk-label-container\"><div class=\"sk-label sk-toggleable\"><input class=\"sk-toggleable__control sk-hidden--visually\" id=\"sk-estimator-id-7\" type=\"checkbox\" ><label for=\"sk-estimator-id-7\" class=\"sk-toggleable__label sk-toggleable__label-arrow\">genre</label><div class=\"sk-toggleable__content\"><pre>genre</pre></div></div></div><div class=\"sk-serial\"><div class=\"sk-item\"><div class=\"sk-serial\"><div class=\"sk-item\"><div class=\"sk-estimator sk-toggleable\"><input class=\"sk-toggleable__control sk-hidden--visually\" id=\"sk-estimator-id-8\" type=\"checkbox\" ><label for=\"sk-estimator-id-8\" class=\"sk-toggleable__label sk-toggleable__label-arrow\">TextProcessor</label><div class=\"sk-toggleable__content\"><pre>TextProcessor()</pre></div></div></div><div class=\"sk-item\"><div class=\"sk-estimator sk-toggleable\"><input class=\"sk-toggleable__control sk-hidden--visually\" id=\"sk-estimator-id-9\" type=\"checkbox\" ><label for=\"sk-estimator-id-9\" class=\"sk-toggleable__label sk-toggleable__label-arrow\">CountVectorizer</label><div class=\"sk-toggleable__content\"><pre>CountVectorizer()</pre></div></div></div></div></div></div></div></div><div class=\"sk-parallel-item\"><div class=\"sk-item\"><div class=\"sk-label-container\"><div class=\"sk-label sk-toggleable\"><input class=\"sk-toggleable__control sk-hidden--visually\" id=\"sk-estimator-id-10\" type=\"checkbox\" ><label for=\"sk-estimator-id-10\" class=\"sk-toggleable__label sk-toggleable__label-arrow\">ratingContents</label><div class=\"sk-toggleable__content\"><pre>ratingContents</pre></div></div></div><div class=\"sk-serial\"><div class=\"sk-item\"><div class=\"sk-serial\"><div class=\"sk-item\"><div class=\"sk-estimator sk-toggleable\"><input class=\"sk-toggleable__control sk-hidden--visually\" id=\"sk-estimator-id-11\" type=\"checkbox\" ><label for=\"sk-estimator-id-11\" class=\"sk-toggleable__label sk-toggleable__label-arrow\">TextProcessor</label><div class=\"sk-toggleable__content\"><pre>TextProcessor()</pre></div></div></div><div class=\"sk-item\"><div class=\"sk-estimator sk-toggleable\"><input class=\"sk-toggleable__control sk-hidden--visually\" id=\"sk-estimator-id-12\" type=\"checkbox\" ><label for=\"sk-estimator-id-12\" class=\"sk-toggleable__label sk-toggleable__label-arrow\">CountVectorizer</label><div class=\"sk-toggleable__content\"><pre>CountVectorizer()</pre></div></div></div></div></div></div></div></div><div class=\"sk-parallel-item\"><div class=\"sk-item\"><div class=\"sk-label-container\"><div class=\"sk-label sk-toggleable\"><input class=\"sk-toggleable__control sk-hidden--visually\" id=\"sk-estimator-id-13\" type=\"checkbox\" ><label for=\"sk-estimator-id-13\" class=\"sk-toggleable__label sk-toggleable__label-arrow\">numeric</label><div class=\"sk-toggleable__content\"><pre>[&#x27;audienceScore&#x27;, &#x27;runtimeMinutes&#x27;]</pre></div></div></div><div class=\"sk-serial\"><div class=\"sk-item\"><div class=\"sk-serial\"><div class=\"sk-item\"><div class=\"sk-estimator sk-toggleable\"><input class=\"sk-toggleable__control sk-hidden--visually\" id=\"sk-estimator-id-14\" type=\"checkbox\" ><label for=\"sk-estimator-id-14\" class=\"sk-toggleable__label sk-toggleable__label-arrow\">SimpleImputer</label><div class=\"sk-toggleable__content\"><pre>SimpleImputer(strategy=&#x27;median&#x27;)</pre></div></div></div><div class=\"sk-item\"><div class=\"sk-estimator sk-toggleable\"><input class=\"sk-toggleable__control sk-hidden--visually\" id=\"sk-estimator-id-15\" type=\"checkbox\" ><label for=\"sk-estimator-id-15\" class=\"sk-toggleable__label sk-toggleable__label-arrow\">StandardScaler</label><div class=\"sk-toggleable__content\"><pre>StandardScaler()</pre></div></div></div></div></div></div></div></div><div class=\"sk-parallel-item\"><div class=\"sk-item\"><div class=\"sk-label-container\"><div class=\"sk-label sk-toggleable\"><input class=\"sk-toggleable__control sk-hidden--visually\" id=\"sk-estimator-id-16\" type=\"checkbox\" ><label for=\"sk-estimator-id-16\" class=\"sk-toggleable__label sk-toggleable__label-arrow\">boxoffice</label><div class=\"sk-toggleable__content\"><pre>boxOffice</pre></div></div></div><div class=\"sk-serial\"><div class=\"sk-item\"><div class=\"sk-serial\"><div class=\"sk-item\"><div class=\"sk-estimator sk-toggleable\"><input class=\"sk-toggleable__control sk-hidden--visually\" id=\"sk-estimator-id-17\" type=\"checkbox\" ><label for=\"sk-estimator-id-17\" class=\"sk-toggleable__label sk-toggleable__label-arrow\">BoxOfficeTransformer</label><div class=\"sk-toggleable__content\"><pre>BoxOfficeTransformer()</pre></div></div></div><div class=\"sk-item\"><div class=\"sk-estimator sk-toggleable\"><input class=\"sk-toggleable__control sk-hidden--visually\" id=\"sk-estimator-id-18\" type=\"checkbox\" ><label for=\"sk-estimator-id-18\" class=\"sk-toggleable__label sk-toggleable__label-arrow\">FunctionTransformer</label><div class=\"sk-toggleable__content\"><pre>FunctionTransformer(func=&lt;function &lt;lambda&gt; at 0x79fa74ee89d0&gt;)</pre></div></div></div><div class=\"sk-item\"><div class=\"sk-label-container\"><div class=\"sk-label sk-toggleable\"><input class=\"sk-toggleable__control sk-hidden--visually\" id=\"sk-estimator-id-19\" type=\"checkbox\" ><label for=\"sk-estimator-id-19\" class=\"sk-toggleable__label sk-toggleable__label-arrow\">num: Pipeline</label><div class=\"sk-toggleable__content\"><pre>Pipeline(steps=[(&#x27;imputer&#x27;, SimpleImputer(strategy=&#x27;median&#x27;)),\n",
       "                (&#x27;scaler&#x27;, StandardScaler())])</pre></div></div></div><div class=\"sk-serial\"><div class=\"sk-item\"><div class=\"sk-estimator sk-toggleable\"><input class=\"sk-toggleable__control sk-hidden--visually\" id=\"sk-estimator-id-20\" type=\"checkbox\" ><label for=\"sk-estimator-id-20\" class=\"sk-toggleable__label sk-toggleable__label-arrow\">SimpleImputer</label><div class=\"sk-toggleable__content\"><pre>SimpleImputer(strategy=&#x27;median&#x27;)</pre></div></div></div><div class=\"sk-item\"><div class=\"sk-estimator sk-toggleable\"><input class=\"sk-toggleable__control sk-hidden--visually\" id=\"sk-estimator-id-21\" type=\"checkbox\" ><label for=\"sk-estimator-id-21\" class=\"sk-toggleable__label sk-toggleable__label-arrow\">StandardScaler</label><div class=\"sk-toggleable__content\"><pre>StandardScaler()</pre></div></div></div></div></div></div></div></div></div></div><div class=\"sk-parallel-item\"><div class=\"sk-item\"><div class=\"sk-label-container\"><div class=\"sk-label sk-toggleable\"><input class=\"sk-toggleable__control sk-hidden--visually\" id=\"sk-estimator-id-22\" type=\"checkbox\" ><label for=\"sk-estimator-id-22\" class=\"sk-toggleable__label sk-toggleable__label-arrow\">categorical</label><div class=\"sk-toggleable__content\"><pre>[&#x27;rating&#x27;, &#x27;director&#x27;, &#x27;distributor&#x27;, &#x27;releaseDateStreaming&#x27;, &#x27;releaseDateTheaters&#x27;, &#x27;soundType&#x27;, &#x27;originalLanguage&#x27;]</pre></div></div></div><div class=\"sk-serial\"><div class=\"sk-item\"><div class=\"sk-serial\"><div class=\"sk-item\"><div class=\"sk-estimator sk-toggleable\"><input class=\"sk-toggleable__control sk-hidden--visually\" id=\"sk-estimator-id-23\" type=\"checkbox\" ><label for=\"sk-estimator-id-23\" class=\"sk-toggleable__label sk-toggleable__label-arrow\">SimpleImputer</label><div class=\"sk-toggleable__content\"><pre>SimpleImputer(fill_value=&#x27;missing&#x27;, strategy=&#x27;constant&#x27;)</pre></div></div></div><div class=\"sk-item\"><div class=\"sk-estimator sk-toggleable\"><input class=\"sk-toggleable__control sk-hidden--visually\" id=\"sk-estimator-id-24\" type=\"checkbox\" ><label for=\"sk-estimator-id-24\" class=\"sk-toggleable__label sk-toggleable__label-arrow\">OneHotEncoder</label><div class=\"sk-toggleable__content\"><pre>OneHotEncoder(handle_unknown=&#x27;ignore&#x27;)</pre></div></div></div></div></div></div></div></div></div></div><div class=\"sk-item\"><div class=\"sk-estimator sk-toggleable\"><input class=\"sk-toggleable__control sk-hidden--visually\" id=\"sk-estimator-id-25\" type=\"checkbox\" ><label for=\"sk-estimator-id-25\" class=\"sk-toggleable__label sk-toggleable__label-arrow\">SelectPercentile</label><div class=\"sk-toggleable__content\"><pre>SelectPercentile(percentile=25)</pre></div></div></div><div class=\"sk-item\"><div class=\"sk-estimator sk-toggleable\"><input class=\"sk-toggleable__control sk-hidden--visually\" id=\"sk-estimator-id-26\" type=\"checkbox\" ><label for=\"sk-estimator-id-26\" class=\"sk-toggleable__label sk-toggleable__label-arrow\">LogisticRegression</label><div class=\"sk-toggleable__content\"><pre>LogisticRegression(max_iter=100000)</pre></div></div></div></div></div></div></div></div></div></div></div></div>"
      ],
      "text/plain": [
       "GridSearchCV(cv=5,\n",
       "             estimator=Pipeline(steps=[('preprocessor',\n",
       "                                        ColumnTransformer(transformers=[('reviewText',\n",
       "                                                                         Pipeline(steps=[('text_processor',\n",
       "                                                                                          TextProcessor()),\n",
       "                                                                                         ('tfidf_vectorizer',\n",
       "                                                                                          TfidfVectorizer(stop_words='english'))]),\n",
       "                                                                         'reviewText'),\n",
       "                                                                        ('genre',\n",
       "                                                                         Pipeline(steps=[('text_processor',\n",
       "                                                                                          TextProcessor()),\n",
       "                                                                                         ('count',\n",
       "                                                                                          CountVectorizer())]),\n",
       "                                                                         'genre'),\n",
       "                                                                        ('ratingContents',\n",
       "                                                                         P...\n",
       "                                                                          'director',\n",
       "                                                                          'distributor',\n",
       "                                                                          'releaseDateStreaming',\n",
       "                                                                          'releaseDateTheaters',\n",
       "                                                                          'soundType',\n",
       "                                                                          'originalLanguage'])])),\n",
       "                                       ('k_percentile',\n",
       "                                        SelectPercentile(percentile=25)),\n",
       "                                       ('logreg',\n",
       "                                        LogisticRegression(max_iter=100000))]),\n",
       "             n_jobs=-1,\n",
       "             param_grid={'logreg__C': [1], 'logreg__max_iter': [1000],\n",
       "                         'logreg__penalty': ['l2'],\n",
       "                         'logreg__solver': ['liblinear']},\n",
       "             scoring='accuracy', verbose=3)"
      ]
     },
     "execution_count": 45,
     "metadata": {},
     "output_type": "execute_result"
    }
   ],
   "source": [
    "grid_search_lr = GridSearchCV(\n",
    "    estimator=logreg_pipeline,\n",
    "    param_grid=param_grid,\n",
    "    cv=5,\n",
    "    scoring='accuracy',\n",
    "    n_jobs=-1,\n",
    "    verbose = 3\n",
    ")\n",
    "\n",
    "# Fit the grid search to the training data\n",
    "grid_search_lr.fit(X_train, y_train)\n",
    "\n"
   ]
  },
  {
   "cell_type": "code",
   "execution_count": 46,
   "id": "a3c22029",
   "metadata": {
    "execution": {
     "iopub.execute_input": "2023-08-13T08:57:28.404881Z",
     "iopub.status.busy": "2023-08-13T08:57:28.404338Z",
     "iopub.status.idle": "2023-08-13T08:57:28.412744Z",
     "shell.execute_reply": "2023-08-13T08:57:28.410961Z"
    },
    "papermill": {
     "duration": 0.037384,
     "end_time": "2023-08-13T08:57:28.415631",
     "exception": false,
     "start_time": "2023-08-13T08:57:28.378247",
     "status": "completed"
    },
    "tags": []
   },
   "outputs": [
    {
     "name": "stdout",
     "output_type": "stream",
     "text": [
      "Best parameters: {'logreg__C': 1, 'logreg__max_iter': 1000, 'logreg__penalty': 'l2', 'logreg__solver': 'liblinear'}\n",
      "Best score: 0.8151667133310901\n"
     ]
    }
   ],
   "source": [
    "# Print the best parameters and best score\n",
    "print(\"Best parameters:\", grid_search_lr.best_params_)\n",
    "print(\"Best score:\", grid_search_lr.best_score_)"
   ]
  },
  {
   "cell_type": "code",
   "execution_count": 47,
   "id": "4fa32d47",
   "metadata": {
    "execution": {
     "iopub.execute_input": "2023-08-13T08:57:28.462188Z",
     "iopub.status.busy": "2023-08-13T08:57:28.461774Z",
     "iopub.status.idle": "2023-08-13T08:57:28.468643Z",
     "shell.execute_reply": "2023-08-13T08:57:28.467703Z"
    },
    "papermill": {
     "duration": 0.033448,
     "end_time": "2023-08-13T08:57:28.470980",
     "exception": false,
     "start_time": "2023-08-13T08:57:28.437532",
     "status": "completed"
    },
    "tags": []
   },
   "outputs": [],
   "source": [
    "scores = grid_search_lr.cv_results_\n",
    "scores = pd.DataFrame(scores)\n"
   ]
  },
  {
   "cell_type": "code",
   "execution_count": 48,
   "id": "680fb4ef",
   "metadata": {
    "execution": {
     "iopub.execute_input": "2023-08-13T08:57:28.516908Z",
     "iopub.status.busy": "2023-08-13T08:57:28.516226Z",
     "iopub.status.idle": "2023-08-13T08:57:28.521223Z",
     "shell.execute_reply": "2023-08-13T08:57:28.520329Z"
    },
    "papermill": {
     "duration": 0.030935,
     "end_time": "2023-08-13T08:57:28.523608",
     "exception": false,
     "start_time": "2023-08-13T08:57:28.492673",
     "status": "completed"
    },
    "tags": []
   },
   "outputs": [],
   "source": [
    "# Assuming you've completed your grid search and obtained the best estimator\n",
    "best_estimator = grid_search_lr.best_estimator_"
   ]
  },
  {
   "cell_type": "code",
   "execution_count": 49,
   "id": "61456974",
   "metadata": {
    "execution": {
     "iopub.execute_input": "2023-08-13T08:57:28.570328Z",
     "iopub.status.busy": "2023-08-13T08:57:28.569663Z",
     "iopub.status.idle": "2023-08-13T08:57:34.732051Z",
     "shell.execute_reply": "2023-08-13T08:57:34.730777Z"
    },
    "papermill": {
     "duration": 6.189317,
     "end_time": "2023-08-13T08:57:34.735290",
     "exception": false,
     "start_time": "2023-08-13T08:57:28.545973",
     "status": "completed"
    },
    "scrolled": true,
    "tags": []
   },
   "outputs": [],
   "source": [
    "# Make predictions using the best estimator on the processed test data\n",
    "predictions = best_estimator.predict(test_df)"
   ]
  },
  {
   "cell_type": "code",
   "execution_count": 50,
   "id": "a62ac572",
   "metadata": {
    "execution": {
     "iopub.execute_input": "2023-08-13T08:57:34.785950Z",
     "iopub.status.busy": "2023-08-13T08:57:34.785491Z",
     "iopub.status.idle": "2023-08-13T08:57:34.793770Z",
     "shell.execute_reply": "2023-08-13T08:57:34.792347Z"
    },
    "papermill": {
     "duration": 0.036082,
     "end_time": "2023-08-13T08:57:34.796623",
     "exception": false,
     "start_time": "2023-08-13T08:57:34.760541",
     "status": "completed"
    },
    "tags": []
   },
   "outputs": [
    {
     "data": {
      "text/plain": [
       "(55315,)"
      ]
     },
     "execution_count": 50,
     "metadata": {},
     "output_type": "execute_result"
    }
   ],
   "source": [
    "predictions.shape"
   ]
  },
  {
   "cell_type": "code",
   "execution_count": 51,
   "id": "112d1a4c",
   "metadata": {
    "execution": {
     "iopub.execute_input": "2023-08-13T08:57:34.847545Z",
     "iopub.status.busy": "2023-08-13T08:57:34.846911Z",
     "iopub.status.idle": "2023-08-13T08:57:35.392001Z",
     "shell.execute_reply": "2023-08-13T08:57:35.390558Z"
    },
    "papermill": {
     "duration": 0.574519,
     "end_time": "2023-08-13T08:57:35.395202",
     "exception": false,
     "start_time": "2023-08-13T08:57:34.820683",
     "status": "completed"
    },
    "tags": []
   },
   "outputs": [],
   "source": [
    "# Step 7: Generate predictions for the test data and create submission file\n",
    "\n",
    "sentiment_mapping = {0: 'NEGATIVE', 1: 'POSITIVE'}\n",
    "submission_df = pd.DataFrame(columns=['id', 'sentiment'])\n",
    "\n",
    "submission_df['id'] = [i for i in range(len(predictions))]\n",
    "submission_df['sentiment'] = [i for i in predictions ]\n",
    "submission_df['sentiment'] = submission_df['sentiment'].map(sentiment_mapping)\n",
    "\n",
    "submission_df.to_csv(\"submission.csv\", index=False)\n"
   ]
  },
  {
   "cell_type": "code",
   "execution_count": null,
   "id": "7c5ee283",
   "metadata": {
    "papermill": {
     "duration": 0.023178,
     "end_time": "2023-08-13T08:57:35.442982",
     "exception": false,
     "start_time": "2023-08-13T08:57:35.419804",
     "status": "completed"
    },
    "tags": []
   },
   "outputs": [],
   "source": []
  }
 ],
 "metadata": {
  "kernelspec": {
   "display_name": "Python 3",
   "language": "python",
   "name": "python3"
  },
  "language_info": {
   "codemirror_mode": {
    "name": "ipython",
    "version": 3
   },
   "file_extension": ".py",
   "mimetype": "text/x-python",
   "name": "python",
   "nbconvert_exporter": "python",
   "pygments_lexer": "ipython3",
   "version": "3.10.10"
  },
  "papermill": {
   "default_parameters": {},
   "duration": 1154.575999,
   "end_time": "2023-08-13T08:57:38.096076",
   "environment_variables": {},
   "exception": null,
   "input_path": "__notebook__.ipynb",
   "output_path": "__notebook__.ipynb",
   "parameters": {},
   "start_time": "2023-08-13T08:38:23.520077",
   "version": "2.4.0"
  }
 },
 "nbformat": 4,
 "nbformat_minor": 5
}
